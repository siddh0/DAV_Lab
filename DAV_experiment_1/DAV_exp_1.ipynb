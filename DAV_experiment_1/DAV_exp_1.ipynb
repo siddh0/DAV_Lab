{
  "nbformat": 4,
  "nbformat_minor": 0,
  "metadata": {
    "colab": {
      "provenance": [],
      "authorship_tag": "ABX9TyPx7ruene1OK8mqW8mHq4d+",
      "include_colab_link": true
    },
    "kernelspec": {
      "name": "ir",
      "display_name": "R"
    },
    "language_info": {
      "name": "R"
    }
  },
  "cells": [
    {
      "cell_type": "markdown",
      "metadata": {
        "id": "view-in-github",
        "colab_type": "text"
      },
      "source": [
        "<a href=\"https://colab.research.google.com/github/siddh0/DAV_Lab/blob/main/DAV_experiment_1/DAV_exp_1.ipynb\" target=\"_parent\"><img src=\"https://colab.research.google.com/assets/colab-badge.svg\" alt=\"Open In Colab\"/></a>"
      ]
    },
    {
      "cell_type": "markdown",
      "source": [
        "SCRAPY(PYTHON)"
      ],
      "metadata": {
        "id": "9IhXbDez90tQ"
      }
    },
    {
      "cell_type": "code",
      "execution_count": null,
      "metadata": {
        "id": "Za7iwnWX6u3B",
        "colab": {
          "base_uri": "https://localhost:8080/"
        },
        "outputId": "228a0f5a-4440-4dfd-be80-40a9a7553271"
      },
      "outputs": [
        {
          "output_type": "stream",
          "name": "stdout",
          "text": [
            "Successfully installed Automat-22.10.0 PyDispatcher-2.0.7 Twisted-22.10.0 constantly-23.10.4 cssselect-1.2.0 hyperlink-21.0.0 incremental-22.10.0 itemadapter-0.8.0 itemloaders-1.1.0 jmespath-1.0.1 parsel-1.8.1 protego-0.3.0 queuelib-1.6.2 requests-file-1.5.1 scrapy-2.11.0 service-identity-24.1.0 tldextract-5.1.1 w3lib-2.1.2 zope.interface-6.1\n"
          ]
        }
      ],
      "source": [
        "!pip install scrapy"
      ]
    },
    {
      "cell_type": "markdown",
      "source": [
        "Saving the below script in scrape.py"
      ],
      "metadata": {
        "id": "mC1b4lpL7W44"
      }
    },
    {
      "cell_type": "code",
      "source": [
        "import scrapy\n",
        "\n",
        "class ExtractUrls(scrapy.Spider):\n",
        "    name = \"extract\"\n",
        "\n",
        "    def start_requests(self):\n",
        "        urls = [ 'https://toscrape.com/', ]\n",
        "\n",
        "        for url in urls:\n",
        "            yield scrapy.Request(url = url, callback = self.parse)\n",
        "\n",
        "    def parse(self, response):\n",
        "      links= response.css('a::attr(href)').extract()\n",
        "      with open(\"newextract.txt\", \"w\") as output:\n",
        "        output.write(str(set(links)))"
      ],
      "metadata": {
        "id": "HNlYsDxXU1sr"
      },
      "execution_count": null,
      "outputs": []
    },
    {
      "cell_type": "code",
      "source": [
        "!scrapy runspider scrape.py"
      ],
      "metadata": {
        "colab": {
          "base_uri": "https://localhost:8080/"
        },
        "id": "VV8L-u8N7Tht",
        "outputId": "7f818f30-2cda-44f7-fab7-fbbb42f9f8be"
      },
      "execution_count": null,
      "outputs": [
        {
          "output_type": "stream",
          "name": "stdout",
          "text": [
            "2024-01-26 08:41:16 [scrapy.utils.log] INFO: Scrapy 2.11.0 started (bot: scrapybot)\n",
            "2024-01-26 08:41:16 [scrapy.utils.log] INFO: Versions: lxml 4.9.4.0, libxml2 2.10.3, cssselect 1.2.0, parsel 1.8.1, w3lib 2.1.2, Twisted 22.10.0, Python 3.10.12 (main, Nov 20 2023, 15:14:05) [GCC 11.4.0], pyOpenSSL 24.0.0 (OpenSSL 3.2.0 23 Nov 2023), cryptography 42.0.0, Platform Linux-6.1.58+-x86_64-with-glibc2.35\n",
            "2024-01-26 08:41:16 [scrapy.addons] INFO: Enabled addons:\n",
            "[]\n",
            "/usr/local/lib/python3.10/dist-packages/scrapy/utils/request.py:254: ScrapyDeprecationWarning: '2.6' is a deprecated value for the 'REQUEST_FINGERPRINTER_IMPLEMENTATION' setting.\n",
            "\n",
            "It is also the default value. In other words, it is normal to get this warning if you have not defined a value for the 'REQUEST_FINGERPRINTER_IMPLEMENTATION' setting. This is so for backward compatibility reasons, but it will change in a future version of Scrapy.\n",
            "\n",
            "See the documentation of the 'REQUEST_FINGERPRINTER_IMPLEMENTATION' setting for information on how to handle this deprecation.\n",
            "  return cls(crawler)\n",
            "2024-01-26 08:41:16 [scrapy.utils.log] DEBUG: Using reactor: twisted.internet.epollreactor.EPollReactor\n",
            "2024-01-26 08:41:16 [scrapy.extensions.telnet] INFO: Telnet Password: 7cc2e8e29f2c0359\n",
            "2024-01-26 08:41:16 [scrapy.middleware] INFO: Enabled extensions:\n",
            "['scrapy.extensions.corestats.CoreStats',\n",
            " 'scrapy.extensions.telnet.TelnetConsole',\n",
            " 'scrapy.extensions.memusage.MemoryUsage',\n",
            " 'scrapy.extensions.logstats.LogStats']\n",
            "2024-01-26 08:41:16 [scrapy.crawler] INFO: Overridden settings:\n",
            "{'SPIDER_LOADER_WARN_ONLY': True}\n",
            "2024-01-26 08:41:16 [scrapy.middleware] INFO: Enabled downloader middlewares:\n",
            "['scrapy.downloadermiddlewares.httpauth.HttpAuthMiddleware',\n",
            " 'scrapy.downloadermiddlewares.downloadtimeout.DownloadTimeoutMiddleware',\n",
            " 'scrapy.downloadermiddlewares.defaultheaders.DefaultHeadersMiddleware',\n",
            " 'scrapy.downloadermiddlewares.useragent.UserAgentMiddleware',\n",
            " 'scrapy.downloadermiddlewares.retry.RetryMiddleware',\n",
            " 'scrapy.downloadermiddlewares.redirect.MetaRefreshMiddleware',\n",
            " 'scrapy.downloadermiddlewares.httpcompression.HttpCompressionMiddleware',\n",
            " 'scrapy.downloadermiddlewares.redirect.RedirectMiddleware',\n",
            " 'scrapy.downloadermiddlewares.cookies.CookiesMiddleware',\n",
            " 'scrapy.downloadermiddlewares.httpproxy.HttpProxyMiddleware',\n",
            " 'scrapy.downloadermiddlewares.stats.DownloaderStats']\n",
            "2024-01-26 08:41:16 [scrapy.middleware] INFO: Enabled spider middlewares:\n",
            "['scrapy.spidermiddlewares.httperror.HttpErrorMiddleware',\n",
            " 'scrapy.spidermiddlewares.offsite.OffsiteMiddleware',\n",
            " 'scrapy.spidermiddlewares.referer.RefererMiddleware',\n",
            " 'scrapy.spidermiddlewares.urllength.UrlLengthMiddleware',\n",
            " 'scrapy.spidermiddlewares.depth.DepthMiddleware']\n",
            "2024-01-26 08:41:16 [scrapy.middleware] INFO: Enabled item pipelines:\n",
            "[]\n",
            "2024-01-26 08:41:16 [scrapy.core.engine] INFO: Spider opened\n",
            "2024-01-26 08:41:16 [scrapy.extensions.logstats] INFO: Crawled 0 pages (at 0 pages/min), scraped 0 items (at 0 items/min)\n",
            "2024-01-26 08:41:16 [scrapy.extensions.telnet] INFO: Telnet console listening on 127.0.0.1:6023\n",
            "2024-01-26 08:41:16 [scrapy.core.engine] DEBUG: Crawled (200) <GET https://toscrape.com/> (referer: None)\n",
            "2024-01-26 08:41:16 [scrapy.core.engine] INFO: Closing spider (finished)\n",
            "2024-01-26 08:41:17 [scrapy.statscollectors] INFO: Dumping Scrapy stats:\n",
            "{'downloader/request_bytes': 213,\n",
            " 'downloader/request_count': 1,\n",
            " 'downloader/request_method_count/GET': 1,\n",
            " 'downloader/response_bytes': 4198,\n",
            " 'downloader/response_count': 1,\n",
            " 'downloader/response_status_count/200': 1,\n",
            " 'elapsed_time_seconds': 0.157807,\n",
            " 'finish_reason': 'finished',\n",
            " 'finish_time': datetime.datetime(2024, 1, 26, 8, 41, 17, 201, tzinfo=datetime.timezone.utc),\n",
            " 'log_count/DEBUG': 2,\n",
            " 'log_count/INFO': 10,\n",
            " 'memusage/max': 138313728,\n",
            " 'memusage/startup': 138313728,\n",
            " 'response_received_count': 1,\n",
            " 'scheduler/dequeued': 1,\n",
            " 'scheduler/dequeued/memory': 1,\n",
            " 'scheduler/enqueued': 1,\n",
            " 'scheduler/enqueued/memory': 1,\n",
            " 'start_time': datetime.datetime(2024, 1, 26, 8, 41, 16, 842394, tzinfo=datetime.timezone.utc)}\n",
            "2024-01-26 08:41:17 [scrapy.core.engine] INFO: Spider closed (finished)\n"
          ]
        }
      ]
    },
    {
      "cell_type": "markdown",
      "source": [
        "Displaying scraped urls"
      ],
      "metadata": {
        "id": "XyTPx6z19G1i"
      }
    },
    {
      "cell_type": "code",
      "source": [
        "file_path = 'newextract.txt'\n",
        "with open(file_path, 'r') as file:\n",
        "    file_contents = file.read()\n",
        "    print(file_contents)"
      ],
      "metadata": {
        "colab": {
          "base_uri": "https://localhost:8080/"
        },
        "id": "2M8XSL8m7GQf",
        "outputId": "617fa82c-2df6-4e20-d8bd-444897c102cc"
      },
      "execution_count": null,
      "outputs": [
        {
          "output_type": "stream",
          "name": "stdout",
          "text": [
            "{'http://quotes.toscrape.com/tableful', 'http://quotes.toscrape.com/login', 'http://books.toscrape.com', 'http://quotes.toscrape.com/js-delayed', 'http://quotes.toscrape.com/', 'http://quotes.toscrape.com/search.aspx', 'http://quotes.toscrape.com/random', 'http://quotes.toscrape.com', 'http://quotes.toscrape.com/js', 'http://quotes.toscrape.com/scroll'}\n"
          ]
        }
      ]
    },
    {
      "cell_type": "markdown",
      "source": [
        "PANDAS(PYTHON)"
      ],
      "metadata": {
        "id": "PZr3hP019wRh"
      }
    },
    {
      "cell_type": "code",
      "source": [
        "import pandas as pd\n",
        "\n",
        "data = pd.read_csv('/content/sample_data/california_housing_train.csv')\n",
        "print(f'Shape: {data.shape}')"
      ],
      "metadata": {
        "colab": {
          "base_uri": "https://localhost:8080/"
        },
        "id": "OsWZ5FNn9LfX",
        "outputId": "b0a6044c-6424-43ae-e00d-c833e6329c2e"
      },
      "execution_count": null,
      "outputs": [
        {
          "output_type": "stream",
          "name": "stdout",
          "text": [
            "Shape: (17000, 9)\n"
          ]
        }
      ]
    },
    {
      "cell_type": "code",
      "source": [
        "data.tail(10)"
      ],
      "metadata": {
        "colab": {
          "base_uri": "https://localhost:8080/",
          "height": 363
        },
        "id": "wwKBy3b_9vii",
        "outputId": "578aa73d-743a-42bc-9817-de5297f103aa"
      },
      "execution_count": null,
      "outputs": [
        {
          "output_type": "execute_result",
          "data": {
            "text/plain": [
              "       longitude  latitude  housing_median_age  total_rooms  total_bedrooms  \\\n",
              "16990    -124.22     41.73                28.0       3003.0           699.0   \n",
              "16991    -124.23     41.75                11.0       3159.0           616.0   \n",
              "16992    -124.23     40.81                52.0       1112.0           209.0   \n",
              "16993    -124.23     40.54                52.0       2694.0           453.0   \n",
              "16994    -124.25     40.28                32.0       1430.0           419.0   \n",
              "16995    -124.26     40.58                52.0       2217.0           394.0   \n",
              "16996    -124.27     40.69                36.0       2349.0           528.0   \n",
              "16997    -124.30     41.84                17.0       2677.0           531.0   \n",
              "16998    -124.30     41.80                19.0       2672.0           552.0   \n",
              "16999    -124.35     40.54                52.0       1820.0           300.0   \n",
              "\n",
              "       population  households  median_income  median_house_value  \n",
              "16990      1530.0       653.0         1.7038             78300.0  \n",
              "16991      1343.0       479.0         2.4805             73200.0  \n",
              "16992       544.0       172.0         3.3462             50800.0  \n",
              "16993      1152.0       435.0         3.0806            106700.0  \n",
              "16994       434.0       187.0         1.9417             76100.0  \n",
              "16995       907.0       369.0         2.3571            111400.0  \n",
              "16996      1194.0       465.0         2.5179             79000.0  \n",
              "16997      1244.0       456.0         3.0313            103600.0  \n",
              "16998      1298.0       478.0         1.9797             85800.0  \n",
              "16999       806.0       270.0         3.0147             94600.0  "
            ],
            "text/html": [
              "\n",
              "  <div id=\"df-9ebe3f2e-4b9a-4375-b421-50c005abb9eb\" class=\"colab-df-container\">\n",
              "    <div>\n",
              "<style scoped>\n",
              "    .dataframe tbody tr th:only-of-type {\n",
              "        vertical-align: middle;\n",
              "    }\n",
              "\n",
              "    .dataframe tbody tr th {\n",
              "        vertical-align: top;\n",
              "    }\n",
              "\n",
              "    .dataframe thead th {\n",
              "        text-align: right;\n",
              "    }\n",
              "</style>\n",
              "<table border=\"1\" class=\"dataframe\">\n",
              "  <thead>\n",
              "    <tr style=\"text-align: right;\">\n",
              "      <th></th>\n",
              "      <th>longitude</th>\n",
              "      <th>latitude</th>\n",
              "      <th>housing_median_age</th>\n",
              "      <th>total_rooms</th>\n",
              "      <th>total_bedrooms</th>\n",
              "      <th>population</th>\n",
              "      <th>households</th>\n",
              "      <th>median_income</th>\n",
              "      <th>median_house_value</th>\n",
              "    </tr>\n",
              "  </thead>\n",
              "  <tbody>\n",
              "    <tr>\n",
              "      <th>16990</th>\n",
              "      <td>-124.22</td>\n",
              "      <td>41.73</td>\n",
              "      <td>28.0</td>\n",
              "      <td>3003.0</td>\n",
              "      <td>699.0</td>\n",
              "      <td>1530.0</td>\n",
              "      <td>653.0</td>\n",
              "      <td>1.7038</td>\n",
              "      <td>78300.0</td>\n",
              "    </tr>\n",
              "    <tr>\n",
              "      <th>16991</th>\n",
              "      <td>-124.23</td>\n",
              "      <td>41.75</td>\n",
              "      <td>11.0</td>\n",
              "      <td>3159.0</td>\n",
              "      <td>616.0</td>\n",
              "      <td>1343.0</td>\n",
              "      <td>479.0</td>\n",
              "      <td>2.4805</td>\n",
              "      <td>73200.0</td>\n",
              "    </tr>\n",
              "    <tr>\n",
              "      <th>16992</th>\n",
              "      <td>-124.23</td>\n",
              "      <td>40.81</td>\n",
              "      <td>52.0</td>\n",
              "      <td>1112.0</td>\n",
              "      <td>209.0</td>\n",
              "      <td>544.0</td>\n",
              "      <td>172.0</td>\n",
              "      <td>3.3462</td>\n",
              "      <td>50800.0</td>\n",
              "    </tr>\n",
              "    <tr>\n",
              "      <th>16993</th>\n",
              "      <td>-124.23</td>\n",
              "      <td>40.54</td>\n",
              "      <td>52.0</td>\n",
              "      <td>2694.0</td>\n",
              "      <td>453.0</td>\n",
              "      <td>1152.0</td>\n",
              "      <td>435.0</td>\n",
              "      <td>3.0806</td>\n",
              "      <td>106700.0</td>\n",
              "    </tr>\n",
              "    <tr>\n",
              "      <th>16994</th>\n",
              "      <td>-124.25</td>\n",
              "      <td>40.28</td>\n",
              "      <td>32.0</td>\n",
              "      <td>1430.0</td>\n",
              "      <td>419.0</td>\n",
              "      <td>434.0</td>\n",
              "      <td>187.0</td>\n",
              "      <td>1.9417</td>\n",
              "      <td>76100.0</td>\n",
              "    </tr>\n",
              "    <tr>\n",
              "      <th>16995</th>\n",
              "      <td>-124.26</td>\n",
              "      <td>40.58</td>\n",
              "      <td>52.0</td>\n",
              "      <td>2217.0</td>\n",
              "      <td>394.0</td>\n",
              "      <td>907.0</td>\n",
              "      <td>369.0</td>\n",
              "      <td>2.3571</td>\n",
              "      <td>111400.0</td>\n",
              "    </tr>\n",
              "    <tr>\n",
              "      <th>16996</th>\n",
              "      <td>-124.27</td>\n",
              "      <td>40.69</td>\n",
              "      <td>36.0</td>\n",
              "      <td>2349.0</td>\n",
              "      <td>528.0</td>\n",
              "      <td>1194.0</td>\n",
              "      <td>465.0</td>\n",
              "      <td>2.5179</td>\n",
              "      <td>79000.0</td>\n",
              "    </tr>\n",
              "    <tr>\n",
              "      <th>16997</th>\n",
              "      <td>-124.30</td>\n",
              "      <td>41.84</td>\n",
              "      <td>17.0</td>\n",
              "      <td>2677.0</td>\n",
              "      <td>531.0</td>\n",
              "      <td>1244.0</td>\n",
              "      <td>456.0</td>\n",
              "      <td>3.0313</td>\n",
              "      <td>103600.0</td>\n",
              "    </tr>\n",
              "    <tr>\n",
              "      <th>16998</th>\n",
              "      <td>-124.30</td>\n",
              "      <td>41.80</td>\n",
              "      <td>19.0</td>\n",
              "      <td>2672.0</td>\n",
              "      <td>552.0</td>\n",
              "      <td>1298.0</td>\n",
              "      <td>478.0</td>\n",
              "      <td>1.9797</td>\n",
              "      <td>85800.0</td>\n",
              "    </tr>\n",
              "    <tr>\n",
              "      <th>16999</th>\n",
              "      <td>-124.35</td>\n",
              "      <td>40.54</td>\n",
              "      <td>52.0</td>\n",
              "      <td>1820.0</td>\n",
              "      <td>300.0</td>\n",
              "      <td>806.0</td>\n",
              "      <td>270.0</td>\n",
              "      <td>3.0147</td>\n",
              "      <td>94600.0</td>\n",
              "    </tr>\n",
              "  </tbody>\n",
              "</table>\n",
              "</div>\n",
              "    <div class=\"colab-df-buttons\">\n",
              "\n",
              "  <div class=\"colab-df-container\">\n",
              "    <button class=\"colab-df-convert\" onclick=\"convertToInteractive('df-9ebe3f2e-4b9a-4375-b421-50c005abb9eb')\"\n",
              "            title=\"Convert this dataframe to an interactive table.\"\n",
              "            style=\"display:none;\">\n",
              "\n",
              "  <svg xmlns=\"http://www.w3.org/2000/svg\" height=\"24px\" viewBox=\"0 -960 960 960\">\n",
              "    <path d=\"M120-120v-720h720v720H120Zm60-500h600v-160H180v160Zm220 220h160v-160H400v160Zm0 220h160v-160H400v160ZM180-400h160v-160H180v160Zm440 0h160v-160H620v160ZM180-180h160v-160H180v160Zm440 0h160v-160H620v160Z\"/>\n",
              "  </svg>\n",
              "    </button>\n",
              "\n",
              "  <style>\n",
              "    .colab-df-container {\n",
              "      display:flex;\n",
              "      gap: 12px;\n",
              "    }\n",
              "\n",
              "    .colab-df-convert {\n",
              "      background-color: #E8F0FE;\n",
              "      border: none;\n",
              "      border-radius: 50%;\n",
              "      cursor: pointer;\n",
              "      display: none;\n",
              "      fill: #1967D2;\n",
              "      height: 32px;\n",
              "      padding: 0 0 0 0;\n",
              "      width: 32px;\n",
              "    }\n",
              "\n",
              "    .colab-df-convert:hover {\n",
              "      background-color: #E2EBFA;\n",
              "      box-shadow: 0px 1px 2px rgba(60, 64, 67, 0.3), 0px 1px 3px 1px rgba(60, 64, 67, 0.15);\n",
              "      fill: #174EA6;\n",
              "    }\n",
              "\n",
              "    .colab-df-buttons div {\n",
              "      margin-bottom: 4px;\n",
              "    }\n",
              "\n",
              "    [theme=dark] .colab-df-convert {\n",
              "      background-color: #3B4455;\n",
              "      fill: #D2E3FC;\n",
              "    }\n",
              "\n",
              "    [theme=dark] .colab-df-convert:hover {\n",
              "      background-color: #434B5C;\n",
              "      box-shadow: 0px 1px 3px 1px rgba(0, 0, 0, 0.15);\n",
              "      filter: drop-shadow(0px 1px 2px rgba(0, 0, 0, 0.3));\n",
              "      fill: #FFFFFF;\n",
              "    }\n",
              "  </style>\n",
              "\n",
              "    <script>\n",
              "      const buttonEl =\n",
              "        document.querySelector('#df-9ebe3f2e-4b9a-4375-b421-50c005abb9eb button.colab-df-convert');\n",
              "      buttonEl.style.display =\n",
              "        google.colab.kernel.accessAllowed ? 'block' : 'none';\n",
              "\n",
              "      async function convertToInteractive(key) {\n",
              "        const element = document.querySelector('#df-9ebe3f2e-4b9a-4375-b421-50c005abb9eb');\n",
              "        const dataTable =\n",
              "          await google.colab.kernel.invokeFunction('convertToInteractive',\n",
              "                                                    [key], {});\n",
              "        if (!dataTable) return;\n",
              "\n",
              "        const docLinkHtml = 'Like what you see? Visit the ' +\n",
              "          '<a target=\"_blank\" href=https://colab.research.google.com/notebooks/data_table.ipynb>data table notebook</a>'\n",
              "          + ' to learn more about interactive tables.';\n",
              "        element.innerHTML = '';\n",
              "        dataTable['output_type'] = 'display_data';\n",
              "        await google.colab.output.renderOutput(dataTable, element);\n",
              "        const docLink = document.createElement('div');\n",
              "        docLink.innerHTML = docLinkHtml;\n",
              "        element.appendChild(docLink);\n",
              "      }\n",
              "    </script>\n",
              "  </div>\n",
              "\n",
              "\n",
              "<div id=\"df-5b5720af-cef1-4dfe-979d-a1f580319dc3\">\n",
              "  <button class=\"colab-df-quickchart\" onclick=\"quickchart('df-5b5720af-cef1-4dfe-979d-a1f580319dc3')\"\n",
              "            title=\"Suggest charts\"\n",
              "            style=\"display:none;\">\n",
              "\n",
              "<svg xmlns=\"http://www.w3.org/2000/svg\" height=\"24px\"viewBox=\"0 0 24 24\"\n",
              "     width=\"24px\">\n",
              "    <g>\n",
              "        <path d=\"M19 3H5c-1.1 0-2 .9-2 2v14c0 1.1.9 2 2 2h14c1.1 0 2-.9 2-2V5c0-1.1-.9-2-2-2zM9 17H7v-7h2v7zm4 0h-2V7h2v10zm4 0h-2v-4h2v4z\"/>\n",
              "    </g>\n",
              "</svg>\n",
              "  </button>\n",
              "\n",
              "<style>\n",
              "  .colab-df-quickchart {\n",
              "      --bg-color: #E8F0FE;\n",
              "      --fill-color: #1967D2;\n",
              "      --hover-bg-color: #E2EBFA;\n",
              "      --hover-fill-color: #174EA6;\n",
              "      --disabled-fill-color: #AAA;\n",
              "      --disabled-bg-color: #DDD;\n",
              "  }\n",
              "\n",
              "  [theme=dark] .colab-df-quickchart {\n",
              "      --bg-color: #3B4455;\n",
              "      --fill-color: #D2E3FC;\n",
              "      --hover-bg-color: #434B5C;\n",
              "      --hover-fill-color: #FFFFFF;\n",
              "      --disabled-bg-color: #3B4455;\n",
              "      --disabled-fill-color: #666;\n",
              "  }\n",
              "\n",
              "  .colab-df-quickchart {\n",
              "    background-color: var(--bg-color);\n",
              "    border: none;\n",
              "    border-radius: 50%;\n",
              "    cursor: pointer;\n",
              "    display: none;\n",
              "    fill: var(--fill-color);\n",
              "    height: 32px;\n",
              "    padding: 0;\n",
              "    width: 32px;\n",
              "  }\n",
              "\n",
              "  .colab-df-quickchart:hover {\n",
              "    background-color: var(--hover-bg-color);\n",
              "    box-shadow: 0 1px 2px rgba(60, 64, 67, 0.3), 0 1px 3px 1px rgba(60, 64, 67, 0.15);\n",
              "    fill: var(--button-hover-fill-color);\n",
              "  }\n",
              "\n",
              "  .colab-df-quickchart-complete:disabled,\n",
              "  .colab-df-quickchart-complete:disabled:hover {\n",
              "    background-color: var(--disabled-bg-color);\n",
              "    fill: var(--disabled-fill-color);\n",
              "    box-shadow: none;\n",
              "  }\n",
              "\n",
              "  .colab-df-spinner {\n",
              "    border: 2px solid var(--fill-color);\n",
              "    border-color: transparent;\n",
              "    border-bottom-color: var(--fill-color);\n",
              "    animation:\n",
              "      spin 1s steps(1) infinite;\n",
              "  }\n",
              "\n",
              "  @keyframes spin {\n",
              "    0% {\n",
              "      border-color: transparent;\n",
              "      border-bottom-color: var(--fill-color);\n",
              "      border-left-color: var(--fill-color);\n",
              "    }\n",
              "    20% {\n",
              "      border-color: transparent;\n",
              "      border-left-color: var(--fill-color);\n",
              "      border-top-color: var(--fill-color);\n",
              "    }\n",
              "    30% {\n",
              "      border-color: transparent;\n",
              "      border-left-color: var(--fill-color);\n",
              "      border-top-color: var(--fill-color);\n",
              "      border-right-color: var(--fill-color);\n",
              "    }\n",
              "    40% {\n",
              "      border-color: transparent;\n",
              "      border-right-color: var(--fill-color);\n",
              "      border-top-color: var(--fill-color);\n",
              "    }\n",
              "    60% {\n",
              "      border-color: transparent;\n",
              "      border-right-color: var(--fill-color);\n",
              "    }\n",
              "    80% {\n",
              "      border-color: transparent;\n",
              "      border-right-color: var(--fill-color);\n",
              "      border-bottom-color: var(--fill-color);\n",
              "    }\n",
              "    90% {\n",
              "      border-color: transparent;\n",
              "      border-bottom-color: var(--fill-color);\n",
              "    }\n",
              "  }\n",
              "</style>\n",
              "\n",
              "  <script>\n",
              "    async function quickchart(key) {\n",
              "      const quickchartButtonEl =\n",
              "        document.querySelector('#' + key + ' button');\n",
              "      quickchartButtonEl.disabled = true;  // To prevent multiple clicks.\n",
              "      quickchartButtonEl.classList.add('colab-df-spinner');\n",
              "      try {\n",
              "        const charts = await google.colab.kernel.invokeFunction(\n",
              "            'suggestCharts', [key], {});\n",
              "      } catch (error) {\n",
              "        console.error('Error during call to suggestCharts:', error);\n",
              "      }\n",
              "      quickchartButtonEl.classList.remove('colab-df-spinner');\n",
              "      quickchartButtonEl.classList.add('colab-df-quickchart-complete');\n",
              "    }\n",
              "    (() => {\n",
              "      let quickchartButtonEl =\n",
              "        document.querySelector('#df-5b5720af-cef1-4dfe-979d-a1f580319dc3 button');\n",
              "      quickchartButtonEl.style.display =\n",
              "        google.colab.kernel.accessAllowed ? 'block' : 'none';\n",
              "    })();\n",
              "  </script>\n",
              "</div>\n",
              "    </div>\n",
              "  </div>\n"
            ]
          },
          "metadata": {},
          "execution_count": 18
        }
      ]
    },
    {
      "cell_type": "code",
      "source": [
        "data.columns"
      ],
      "metadata": {
        "colab": {
          "base_uri": "https://localhost:8080/"
        },
        "id": "LqM8dK_G9-h6",
        "outputId": "c06d63e6-bd51-4d7f-b84f-e4a80104db9e"
      },
      "execution_count": null,
      "outputs": [
        {
          "output_type": "execute_result",
          "data": {
            "text/plain": [
              "Index(['longitude', 'latitude', 'housing_median_age', 'total_rooms',\n",
              "       'total_bedrooms', 'population', 'households', 'median_income',\n",
              "       'median_house_value'],\n",
              "      dtype='object')"
            ]
          },
          "metadata": {},
          "execution_count": 19
        }
      ]
    },
    {
      "cell_type": "code",
      "source": [
        "data.info()"
      ],
      "metadata": {
        "colab": {
          "base_uri": "https://localhost:8080/"
        },
        "id": "4LFF7B-W-Cxt",
        "outputId": "1039526b-739d-469d-8c1e-b2bd36738b04"
      },
      "execution_count": null,
      "outputs": [
        {
          "output_type": "stream",
          "name": "stdout",
          "text": [
            "<class 'pandas.core.frame.DataFrame'>\n",
            "RangeIndex: 17000 entries, 0 to 16999\n",
            "Data columns (total 9 columns):\n",
            " #   Column              Non-Null Count  Dtype  \n",
            "---  ------              --------------  -----  \n",
            " 0   longitude           17000 non-null  float64\n",
            " 1   latitude            17000 non-null  float64\n",
            " 2   housing_median_age  17000 non-null  float64\n",
            " 3   total_rooms         17000 non-null  float64\n",
            " 4   total_bedrooms      17000 non-null  float64\n",
            " 5   population          17000 non-null  float64\n",
            " 6   households          17000 non-null  float64\n",
            " 7   median_income       17000 non-null  float64\n",
            " 8   median_house_value  17000 non-null  float64\n",
            "dtypes: float64(9)\n",
            "memory usage: 1.2 MB\n"
          ]
        }
      ]
    },
    {
      "cell_type": "code",
      "source": [
        "data.plot(kind='scatter',x='population',y='total_rooms')"
      ],
      "metadata": {
        "colab": {
          "base_uri": "https://localhost:8080/",
          "height": 467
        },
        "id": "lQ8nPjaW-FxG",
        "outputId": "90139f1d-269b-4a0a-8606-db47b86afb11"
      },
      "execution_count": null,
      "outputs": [
        {
          "output_type": "execute_result",
          "data": {
            "text/plain": [
              "<Axes: xlabel='population', ylabel='total_rooms'>"
            ]
          },
          "metadata": {},
          "execution_count": 21
        },
        {
          "output_type": "display_data",
          "data": {
            "text/plain": [
              "<Figure size 640x480 with 1 Axes>"
            ],
            "image/png": "[encoded data removed]"
          },
          "metadata": {}
        }
      ]
    },
    {
      "cell_type": "markdown",
      "source": [
        "DPLYR - R"
      ],
      "metadata": {
        "id": "zNDa7AlE-UNA"
      }
    },
    {
      "cell_type": "code",
      "source": [
        "install.packages(\"dplyr\")\n",
        "library(\"dplyr\")"
      ],
      "metadata": {
        "colab": {
          "base_uri": "https://localhost:8080/"
        },
        "id": "30pKiYxG-Kru",
        "outputId": "69eb7399-d337-40cf-fab6-134858ef69e0"
      },
      "execution_count": null,
      "outputs": [
        {
          "output_type": "stream",
          "name": "stderr",
          "text": [
            "Installing package into ‘/usr/local/lib/R/site-library’\n",
            "(as ‘lib’ is unspecified)\n",
            "\n",
            "\n",
            "Attaching package: ‘dplyr’\n",
            "\n",
            "\n",
            "The following objects are masked from ‘package:stats’:\n",
            "\n",
            "    filter, lag\n",
            "\n",
            "\n",
            "The following objects are masked from ‘package:base’:\n",
            "\n",
            "    intersect, setdiff, setequal, union\n",
            "\n",
            "\n"
          ]
        }
      ]
    },
    {
      "cell_type": "code",
      "source": [
        "mydata = read.csv(\"/content/sample_data/california_housing_test.csv\")"
      ],
      "metadata": {
        "id": "w8SLXtYG-wOb"
      },
      "execution_count": null,
      "outputs": []
    },
    {
      "cell_type": "markdown",
      "source": [
        "Head of the data"
      ],
      "metadata": {
        "id": "sWuVRyj5J7Fd"
      }
    },
    {
      "cell_type": "code",
      "source": [
        "head(mydata)"
      ],
      "metadata": {
        "colab": {
          "base_uri": "https://localhost:8080/",
          "height": 286
        },
        "id": "w2id6nn9-5Le",
        "outputId": "0c026922-b926-4af7-8305-b18c34e317ba"
      },
      "execution_count": null,
      "outputs": [
        {
          "output_type": "display_data",
          "data": {
            "text/html": [
              "<table class=\"dataframe\">\n",
              "<caption>A data.frame: 6 × 9</caption>\n",
              "<thead>\n",
              "\t<tr><th></th><th scope=col>longitude</th><th scope=col>latitude</th><th scope=col>housing_median_age</th><th scope=col>total_rooms</th><th scope=col>total_bedrooms</th><th scope=col>population</th><th scope=col>households</th><th scope=col>median_income</th><th scope=col>median_house_value</th></tr>\n",
              "\t<tr><th></th><th scope=col>&lt;dbl&gt;</th><th scope=col>&lt;dbl&gt;</th><th scope=col>&lt;dbl&gt;</th><th scope=col>&lt;dbl&gt;</th><th scope=col>&lt;dbl&gt;</th><th scope=col>&lt;dbl&gt;</th><th scope=col>&lt;dbl&gt;</th><th scope=col>&lt;dbl&gt;</th><th scope=col>&lt;dbl&gt;</th></tr>\n",
              "</thead>\n",
              "<tbody>\n",
              "\t<tr><th scope=row>1</th><td>-122.05</td><td>37.37</td><td>27</td><td>3885</td><td>661</td><td>1537</td><td>606</td><td>6.6085</td><td>344700</td></tr>\n",
              "\t<tr><th scope=row>2</th><td>-118.30</td><td>34.26</td><td>43</td><td>1510</td><td>310</td><td> 809</td><td>277</td><td>3.5990</td><td>176500</td></tr>\n",
              "\t<tr><th scope=row>3</th><td>-117.81</td><td>33.78</td><td>27</td><td>3589</td><td>507</td><td>1484</td><td>495</td><td>5.7934</td><td>270500</td></tr>\n",
              "\t<tr><th scope=row>4</th><td>-118.36</td><td>33.82</td><td>28</td><td>  67</td><td> 15</td><td>  49</td><td> 11</td><td>6.1359</td><td>330000</td></tr>\n",
              "\t<tr><th scope=row>5</th><td>-119.67</td><td>36.33</td><td>19</td><td>1241</td><td>244</td><td> 850</td><td>237</td><td>2.9375</td><td> 81700</td></tr>\n",
              "\t<tr><th scope=row>6</th><td>-119.56</td><td>36.51</td><td>37</td><td>1018</td><td>213</td><td> 663</td><td>204</td><td>1.6635</td><td> 67000</td></tr>\n",
              "</tbody>\n",
              "</table>\n"
            ],
            "text/markdown": "\nA data.frame: 6 × 9\n\n| <!--/--> | longitude &lt;dbl&gt; | latitude &lt;dbl&gt; | housing_median_age &lt;dbl&gt; | total_rooms &lt;dbl&gt; | total_bedrooms &lt;dbl&gt; | population &lt;dbl&gt; | households &lt;dbl&gt; | median_income &lt;dbl&gt; | median_house_value &lt;dbl&gt; |\n|---|---|---|---|---|---|---|---|---|---|\n| 1 | -122.05 | 37.37 | 27 | 3885 | 661 | 1537 | 606 | 6.6085 | 344700 |\n| 2 | -118.30 | 34.26 | 43 | 1510 | 310 |  809 | 277 | 3.5990 | 176500 |\n| 3 | -117.81 | 33.78 | 27 | 3589 | 507 | 1484 | 495 | 5.7934 | 270500 |\n| 4 | -118.36 | 33.82 | 28 |   67 |  15 |   49 |  11 | 6.1359 | 330000 |\n| 5 | -119.67 | 36.33 | 19 | 1241 | 244 |  850 | 237 | 2.9375 |  81700 |\n| 6 | -119.56 | 36.51 | 37 | 1018 | 213 |  663 | 204 | 1.6635 |  67000 |\n\n",
            "text/latex": "A data.frame: 6 × 9\n\\begin{tabular}{r|lllllllll}\n  & longitude & latitude & housing\\_median\\_age & total\\_rooms & total\\_bedrooms & population & households & median\\_income & median\\_house\\_value\\\\\n  & <dbl> & <dbl> & <dbl> & <dbl> & <dbl> & <dbl> & <dbl> & <dbl> & <dbl>\\\\\n\\hline\n\t1 & -122.05 & 37.37 & 27 & 3885 & 661 & 1537 & 606 & 6.6085 & 344700\\\\\n\t2 & -118.30 & 34.26 & 43 & 1510 & 310 &  809 & 277 & 3.5990 & 176500\\\\\n\t3 & -117.81 & 33.78 & 27 & 3589 & 507 & 1484 & 495 & 5.7934 & 270500\\\\\n\t4 & -118.36 & 33.82 & 28 &   67 &  15 &   49 &  11 & 6.1359 & 330000\\\\\n\t5 & -119.67 & 36.33 & 19 & 1241 & 244 &  850 & 237 & 2.9375 &  81700\\\\\n\t6 & -119.56 & 36.51 & 37 & 1018 & 213 &  663 & 204 & 1.6635 &  67000\\\\\n\\end{tabular}\n",
            "text/plain": [
              "  longitude latitude housing_median_age total_rooms total_bedrooms population\n",
              "1 -122.05   37.37    27                 3885        661            1537      \n",
              "2 -118.30   34.26    43                 1510        310             809      \n",
              "3 -117.81   33.78    27                 3589        507            1484      \n",
              "4 -118.36   33.82    28                   67         15              49      \n",
              "5 -119.67   36.33    19                 1241        244             850      \n",
              "6 -119.56   36.51    37                 1018        213             663      \n",
              "  households median_income median_house_value\n",
              "1 606        6.6085        344700            \n",
              "2 277        3.5990        176500            \n",
              "3 495        5.7934        270500            \n",
              "4  11        6.1359        330000            \n",
              "5 237        2.9375         81700            \n",
              "6 204        1.6635         67000            "
            ]
          },
          "metadata": {}
        }
      ]
    },
    {
      "cell_type": "markdown",
      "source": [
        "Removing latitude and longitude"
      ],
      "metadata": {
        "id": "HmKJIunZ_yJh"
      }
    },
    {
      "cell_type": "code",
      "source": [
        "mydata3 = select(mydata,-starts_with(\"l\"))\n",
        "sample_n(mydata3,3)"
      ],
      "metadata": {
        "colab": {
          "base_uri": "https://localhost:8080/",
          "height": 192
        },
        "id": "tyiifykf-6KJ",
        "outputId": "8b9dc688-6269-412b-8381-56034eeb5670"
      },
      "execution_count": null,
      "outputs": [
        {
          "output_type": "display_data",
          "data": {
            "text/html": [
              "<table class=\"dataframe\">\n",
              "<caption>A data.frame: 3 × 7</caption>\n",
              "<thead>\n",
              "\t<tr><th scope=col>housing_median_age</th><th scope=col>total_rooms</th><th scope=col>total_bedrooms</th><th scope=col>population</th><th scope=col>households</th><th scope=col>median_income</th><th scope=col>median_house_value</th></tr>\n",
              "\t<tr><th scope=col>&lt;dbl&gt;</th><th scope=col>&lt;dbl&gt;</th><th scope=col>&lt;dbl&gt;</th><th scope=col>&lt;dbl&gt;</th><th scope=col>&lt;dbl&gt;</th><th scope=col>&lt;dbl&gt;</th><th scope=col>&lt;dbl&gt;</th></tr>\n",
              "</thead>\n",
              "<tbody>\n",
              "\t<tr><td>33</td><td>1694</td><td>333</td><td>1689</td><td>301</td><td>3.7583</td><td>116300</td></tr>\n",
              "\t<tr><td>25</td><td>1137</td><td>170</td><td> 524</td><td>164</td><td>7.5744</td><td>259300</td></tr>\n",
              "\t<tr><td>35</td><td>1742</td><td>283</td><td> 812</td><td>282</td><td>5.6704</td><td>303700</td></tr>\n",
              "</tbody>\n",
              "</table>\n"
            ],
            "text/markdown": "\nA data.frame: 3 × 7\n\n| housing_median_age &lt;dbl&gt; | total_rooms &lt;dbl&gt; | total_bedrooms &lt;dbl&gt; | population &lt;dbl&gt; | households &lt;dbl&gt; | median_income &lt;dbl&gt; | median_house_value &lt;dbl&gt; |\n|---|---|---|---|---|---|---|\n| 33 | 1694 | 333 | 1689 | 301 | 3.7583 | 116300 |\n| 25 | 1137 | 170 |  524 | 164 | 7.5744 | 259300 |\n| 35 | 1742 | 283 |  812 | 282 | 5.6704 | 303700 |\n\n",
            "text/latex": "A data.frame: 3 × 7\n\\begin{tabular}{lllllll}\n housing\\_median\\_age & total\\_rooms & total\\_bedrooms & population & households & median\\_income & median\\_house\\_value\\\\\n <dbl> & <dbl> & <dbl> & <dbl> & <dbl> & <dbl> & <dbl>\\\\\n\\hline\n\t 33 & 1694 & 333 & 1689 & 301 & 3.7583 & 116300\\\\\n\t 25 & 1137 & 170 &  524 & 164 & 7.5744 & 259300\\\\\n\t 35 & 1742 & 283 &  812 & 282 & 5.6704 & 303700\\\\\n\\end{tabular}\n",
            "text/plain": [
              "  housing_median_age total_rooms total_bedrooms population households\n",
              "1 33                 1694        333            1689       301       \n",
              "2 25                 1137        170             524       164       \n",
              "3 35                 1742        283             812       282       \n",
              "  median_income median_house_value\n",
              "1 3.7583        116300            \n",
              "2 7.5744        259300            \n",
              "3 5.6704        303700            "
            ]
          },
          "metadata": {}
        }
      ]
    },
    {
      "cell_type": "markdown",
      "source": [
        "Count"
      ],
      "metadata": {
        "id": "avNinFgrBoUH"
      }
    },
    {
      "cell_type": "code",
      "source": [
        "df_count <- count(mydata)\n",
        "df_count"
      ],
      "metadata": {
        "colab": {
          "base_uri": "https://localhost:8080/",
          "height": 164
        },
        "id": "ob9sMa8PAWjJ",
        "outputId": "d4df3280-9837-47b3-eb41-0a18fd737c15"
      },
      "execution_count": null,
      "outputs": [
        {
          "output_type": "display_data",
          "data": {
            "text/html": [
              "<table class=\"dataframe\">\n",
              "<caption>A data.frame: 1 × 1</caption>\n",
              "<thead>\n",
              "\t<tr><th scope=col>n</th></tr>\n",
              "\t<tr><th scope=col>&lt;int&gt;</th></tr>\n",
              "</thead>\n",
              "<tbody>\n",
              "\t<tr><td>3000</td></tr>\n",
              "</tbody>\n",
              "</table>\n"
            ],
            "text/markdown": "\nA data.frame: 1 × 1\n\n| n &lt;int&gt; |\n|---|\n| 3000 |\n\n",
            "text/latex": "A data.frame: 1 × 1\n\\begin{tabular}{l}\n n\\\\\n <int>\\\\\n\\hline\n\t 3000\\\\\n\\end{tabular}\n",
            "text/plain": [
              "  n   \n",
              "1 3000"
            ]
          },
          "metadata": {}
        }
      ]
    },
    {
      "cell_type": "markdown",
      "source": [
        "Using Filter"
      ],
      "metadata": {
        "id": "0HrMAvkaBjnx"
      }
    },
    {
      "cell_type": "code",
      "source": [
        "filter(mydata,total_bedrooms>3000)"
      ],
      "metadata": {
        "colab": {
          "base_uri": "https://localhost:8080/",
          "height": 380
        },
        "id": "ywSSmqni-8ah",
        "outputId": "04e71523-2a59-4833-c9ce-440385625f36"
      },
      "execution_count": null,
      "outputs": [
        {
          "output_type": "display_data",
          "data": {
            "text/html": [
              "<table class=\"dataframe\">\n",
              "<caption>A data.frame: 9 × 9</caption>\n",
              "<thead>\n",
              "\t<tr><th scope=col>longitude</th><th scope=col>latitude</th><th scope=col>housing_median_age</th><th scope=col>total_rooms</th><th scope=col>total_bedrooms</th><th scope=col>population</th><th scope=col>households</th><th scope=col>median_income</th><th scope=col>median_house_value</th></tr>\n",
              "\t<tr><th scope=col>&lt;dbl&gt;</th><th scope=col>&lt;dbl&gt;</th><th scope=col>&lt;dbl&gt;</th><th scope=col>&lt;dbl&gt;</th><th scope=col>&lt;dbl&gt;</th><th scope=col>&lt;dbl&gt;</th><th scope=col>&lt;dbl&gt;</th><th scope=col>&lt;dbl&gt;</th><th scope=col>&lt;dbl&gt;</th></tr>\n",
              "</thead>\n",
              "<tbody>\n",
              "\t<tr><td>-116.36</td><td>33.78</td><td> 6</td><td>24121</td><td>4522</td><td> 4176</td><td>2221</td><td>3.3799</td><td>239300</td></tr>\n",
              "\t<tr><td>-121.73</td><td>37.68</td><td>17</td><td>20354</td><td>3493</td><td> 8768</td><td>3293</td><td>5.4496</td><td>238900</td></tr>\n",
              "\t<tr><td>-117.22</td><td>32.95</td><td> 4</td><td>18123</td><td>3173</td><td> 7301</td><td>2964</td><td>6.3570</td><td>322500</td></tr>\n",
              "\t<tr><td>-121.53</td><td>38.48</td><td> 5</td><td>27870</td><td>5027</td><td>11935</td><td>4855</td><td>4.8811</td><td>212200</td></tr>\n",
              "\t<tr><td>-117.27</td><td>33.15</td><td> 4</td><td>23915</td><td>4135</td><td>10877</td><td>3958</td><td>4.6357</td><td>244900</td></tr>\n",
              "\t<tr><td>-118.44</td><td>33.98</td><td>21</td><td>18132</td><td>5419</td><td> 7431</td><td>4930</td><td>5.3359</td><td>500001</td></tr>\n",
              "\t<tr><td>-117.12</td><td>33.49</td><td> 4</td><td>21988</td><td>4055</td><td> 8824</td><td>3252</td><td>3.9963</td><td>191100</td></tr>\n",
              "\t<tr><td>-117.22</td><td>32.86</td><td> 4</td><td>16289</td><td>4585</td><td> 7604</td><td>4176</td><td>3.6287</td><td>280800</td></tr>\n",
              "\t<tr><td>-117.20</td><td>33.58</td><td> 2</td><td>30450</td><td>5033</td><td> 9419</td><td>3197</td><td>4.5936</td><td>174300</td></tr>\n",
              "</tbody>\n",
              "</table>\n"
            ],
            "text/markdown": "\nA data.frame: 9 × 9\n\n| longitude &lt;dbl&gt; | latitude &lt;dbl&gt; | housing_median_age &lt;dbl&gt; | total_rooms &lt;dbl&gt; | total_bedrooms &lt;dbl&gt; | population &lt;dbl&gt; | households &lt;dbl&gt; | median_income &lt;dbl&gt; | median_house_value &lt;dbl&gt; |\n|---|---|---|---|---|---|---|---|---|\n| -116.36 | 33.78 |  6 | 24121 | 4522 |  4176 | 2221 | 3.3799 | 239300 |\n| -121.73 | 37.68 | 17 | 20354 | 3493 |  8768 | 3293 | 5.4496 | 238900 |\n| -117.22 | 32.95 |  4 | 18123 | 3173 |  7301 | 2964 | 6.3570 | 322500 |\n| -121.53 | 38.48 |  5 | 27870 | 5027 | 11935 | 4855 | 4.8811 | 212200 |\n| -117.27 | 33.15 |  4 | 23915 | 4135 | 10877 | 3958 | 4.6357 | 244900 |\n| -118.44 | 33.98 | 21 | 18132 | 5419 |  7431 | 4930 | 5.3359 | 500001 |\n| -117.12 | 33.49 |  4 | 21988 | 4055 |  8824 | 3252 | 3.9963 | 191100 |\n| -117.22 | 32.86 |  4 | 16289 | 4585 |  7604 | 4176 | 3.6287 | 280800 |\n| -117.20 | 33.58 |  2 | 30450 | 5033 |  9419 | 3197 | 4.5936 | 174300 |\n\n",
            "text/latex": "A data.frame: 9 × 9\n\\begin{tabular}{lllllllll}\n longitude & latitude & housing\\_median\\_age & total\\_rooms & total\\_bedrooms & population & households & median\\_income & median\\_house\\_value\\\\\n <dbl> & <dbl> & <dbl> & <dbl> & <dbl> & <dbl> & <dbl> & <dbl> & <dbl>\\\\\n\\hline\n\t -116.36 & 33.78 &  6 & 24121 & 4522 &  4176 & 2221 & 3.3799 & 239300\\\\\n\t -121.73 & 37.68 & 17 & 20354 & 3493 &  8768 & 3293 & 5.4496 & 238900\\\\\n\t -117.22 & 32.95 &  4 & 18123 & 3173 &  7301 & 2964 & 6.3570 & 322500\\\\\n\t -121.53 & 38.48 &  5 & 27870 & 5027 & 11935 & 4855 & 4.8811 & 212200\\\\\n\t -117.27 & 33.15 &  4 & 23915 & 4135 & 10877 & 3958 & 4.6357 & 244900\\\\\n\t -118.44 & 33.98 & 21 & 18132 & 5419 &  7431 & 4930 & 5.3359 & 500001\\\\\n\t -117.12 & 33.49 &  4 & 21988 & 4055 &  8824 & 3252 & 3.9963 & 191100\\\\\n\t -117.22 & 32.86 &  4 & 16289 & 4585 &  7604 & 4176 & 3.6287 & 280800\\\\\n\t -117.20 & 33.58 &  2 & 30450 & 5033 &  9419 & 3197 & 4.5936 & 174300\\\\\n\\end{tabular}\n",
            "text/plain": [
              "  longitude latitude housing_median_age total_rooms total_bedrooms population\n",
              "1 -116.36   33.78     6                 24121       4522            4176     \n",
              "2 -121.73   37.68    17                 20354       3493            8768     \n",
              "3 -117.22   32.95     4                 18123       3173            7301     \n",
              "4 -121.53   38.48     5                 27870       5027           11935     \n",
              "5 -117.27   33.15     4                 23915       4135           10877     \n",
              "6 -118.44   33.98    21                 18132       5419            7431     \n",
              "7 -117.12   33.49     4                 21988       4055            8824     \n",
              "8 -117.22   32.86     4                 16289       4585            7604     \n",
              "9 -117.20   33.58     2                 30450       5033            9419     \n",
              "  households median_income median_house_value\n",
              "1 2221       3.3799        239300            \n",
              "2 3293       5.4496        238900            \n",
              "3 2964       6.3570        322500            \n",
              "4 4855       4.8811        212200            \n",
              "5 3958       4.6357        244900            \n",
              "6 4930       5.3359        500001            \n",
              "7 3252       3.9963        191100            \n",
              "8 4176       3.6287        280800            \n",
              "9 3197       4.5936        174300            "
            ]
          },
          "metadata": {}
        }
      ]
    },
    {
      "cell_type": "markdown",
      "source": [
        "JSONLITE"
      ],
      "metadata": {
        "id": "X5FZwppKJfgt"
      }
    },
    {
      "cell_type": "code",
      "source": [
        "library(jsonlite)"
      ],
      "metadata": {
        "id": "qlsEAor4BS-w"
      },
      "execution_count": 18,
      "outputs": []
    },
    {
      "cell_type": "code",
      "source": [
        "jsdata<- filter(mydata3,total_bedrooms>3000)"
      ],
      "metadata": {
        "id": "dP5tQyKVHNPe"
      },
      "execution_count": 21,
      "outputs": []
    },
    {
      "cell_type": "markdown",
      "source": [
        "Converting data to json format"
      ],
      "metadata": {
        "id": "JH7bQW5KJmsE"
      }
    },
    {
      "cell_type": "code",
      "source": [
        "newjs <- toJSON(jsdata)\n",
        "newjs"
      ],
      "metadata": {
        "colab": {
          "base_uri": "https://localhost:8080/",
          "height": 181
        },
        "id": "85Gsz8PrICfy",
        "outputId": "a0a0729e-6568-46c6-f195-27ce426f9706"
      },
      "execution_count": 27,
      "outputs": [
        {
          "output_type": "display_data",
          "data": {
            "text/plain": [
              "[{\"housing_median_age\":6,\"total_rooms\":24121,\"total_bedrooms\":4522,\"population\":4176,\"households\":2221,\"median_income\":3.3799,\"median_house_value\":239300},{\"housing_median_age\":17,\"total_rooms\":20354,\"total_bedrooms\":3493,\"population\":8768,\"households\":3293,\"median_income\":5.4496,\"median_house_value\":238900},{\"housing_median_age\":4,\"total_rooms\":18123,\"total_bedrooms\":3173,\"population\":7301,\"households\":2964,\"median_income\":6.357,\"median_house_value\":322500},{\"housing_median_age\":5,\"total_rooms\":27870,\"total_bedrooms\":5027,\"population\":11935,\"households\":4855,\"median_income\":4.8811,\"median_house_value\":212200},{\"housing_median_age\":4,\"total_rooms\":23915,\"total_bedrooms\":4135,\"population\":10877,\"households\":3958,\"median_income\":4.6357,\"median_house_value\":244900},{\"housing_median_age\":21,\"total_rooms\":18132,\"total_bedrooms\":5419,\"population\":7431,\"households\":4930,\"median_income\":5.3359,\"median_house_value\":500001},{\"housing_median_age\":4,\"total_rooms\":21988,\"total_bedrooms\":4055,\"population\":8824,\"households\":3252,\"median_income\":3.9963,\"median_house_value\":191100},{\"housing_median_age\":4,\"total_rooms\":16289,\"total_bedrooms\":4585,\"population\":7604,\"households\":4176,\"median_income\":3.6287,\"median_house_value\":280800},{\"housing_median_age\":2,\"total_rooms\":30450,\"total_bedrooms\":5033,\"population\":9419,\"households\":3197,\"median_income\":4.5936,\"median_house_value\":174300}] "
            ]
          },
          "metadata": {}
        }
      ]
    },
    {
      "cell_type": "markdown",
      "source": [
        "Writing the json data to a file"
      ],
      "metadata": {
        "id": "FYOIkMSpJsvU"
      }
    },
    {
      "cell_type": "code",
      "source": [
        "write_json(newjs, \"output.json\")"
      ],
      "metadata": {
        "id": "bnd7u8VGIGo-"
      },
      "execution_count": 28,
      "outputs": []
    },
    {
      "cell_type": "markdown",
      "source": [
        "Using prettify for readability"
      ],
      "metadata": {
        "id": "tvSmKCWUJysW"
      }
    },
    {
      "cell_type": "code",
      "source": [
        "pretty_json <- prettify(newjs)\n",
        "write_json(pretty_json, \"output2.json\")"
      ],
      "metadata": {
        "id": "aZg5MJ8KJDUg"
      },
      "execution_count": 29,
      "outputs": []
    },
    {
      "cell_type": "code",
      "source": [
        "pretty_json"
      ],
      "metadata": {
        "colab": {
          "base_uri": "https://localhost:8080/",
          "height": 1000
        },
        "id": "3u4RQUM2JXr6",
        "outputId": "d7eb5291-b4c3-4922-9199-27fa9a2518bb"
      },
      "execution_count": 30,
      "outputs": [
        {
          "output_type": "display_data",
          "data": {
            "text/plain": [
              "[\n",
              "    {\n",
              "        \"housing_median_age\": 6,\n",
              "        \"total_rooms\": 24121,\n",
              "        \"total_bedrooms\": 4522,\n",
              "        \"population\": 4176,\n",
              "        \"households\": 2221,\n",
              "        \"median_income\": 3.3799,\n",
              "        \"median_house_value\": 239300\n",
              "    },\n",
              "    {\n",
              "        \"housing_median_age\": 17,\n",
              "        \"total_rooms\": 20354,\n",
              "        \"total_bedrooms\": 3493,\n",
              "        \"population\": 8768,\n",
              "        \"households\": 3293,\n",
              "        \"median_income\": 5.4496,\n",
              "        \"median_house_value\": 238900\n",
              "    },\n",
              "    {\n",
              "        \"housing_median_age\": 4,\n",
              "        \"total_rooms\": 18123,\n",
              "        \"total_bedrooms\": 3173,\n",
              "        \"population\": 7301,\n",
              "        \"households\": 2964,\n",
              "        \"median_income\": 6.357,\n",
              "        \"median_house_value\": 322500\n",
              "    },\n",
              "    {\n",
              "        \"housing_median_age\": 5,\n",
              "        \"total_rooms\": 27870,\n",
              "        \"total_bedrooms\": 5027,\n",
              "        \"population\": 11935,\n",
              "        \"households\": 4855,\n",
              "        \"median_income\": 4.8811,\n",
              "        \"median_house_value\": 212200\n",
              "    },\n",
              "    {\n",
              "        \"housing_median_age\": 4,\n",
              "        \"total_rooms\": 23915,\n",
              "        \"total_bedrooms\": 4135,\n",
              "        \"population\": 10877,\n",
              "        \"households\": 3958,\n",
              "        \"median_income\": 4.6357,\n",
              "        \"median_house_value\": 244900\n",
              "    },\n",
              "    {\n",
              "        \"housing_median_age\": 21,\n",
              "        \"total_rooms\": 18132,\n",
              "        \"total_bedrooms\": 5419,\n",
              "        \"population\": 7431,\n",
              "        \"households\": 4930,\n",
              "        \"median_income\": 5.3359,\n",
              "        \"median_house_value\": 500001\n",
              "    },\n",
              "    {\n",
              "        \"housing_median_age\": 4,\n",
              "        \"total_rooms\": 21988,\n",
              "        \"total_bedrooms\": 4055,\n",
              "        \"population\": 8824,\n",
              "        \"households\": 3252,\n",
              "        \"median_income\": 3.9963,\n",
              "        \"median_house_value\": 191100\n",
              "    },\n",
              "    {\n",
              "        \"housing_median_age\": 4,\n",
              "        \"total_rooms\": 16289,\n",
              "        \"total_bedrooms\": 4585,\n",
              "        \"population\": 7604,\n",
              "        \"households\": 4176,\n",
              "        \"median_income\": 3.6287,\n",
              "        \"median_house_value\": 280800\n",
              "    },\n",
              "    {\n",
              "        \"housing_median_age\": 2,\n",
              "        \"total_rooms\": 30450,\n",
              "        \"total_bedrooms\": 5033,\n",
              "        \"population\": 9419,\n",
              "        \"households\": 3197,\n",
              "        \"median_income\": 4.5936,\n",
              "        \"median_house_value\": 174300\n",
              "    }\n",
              "]\n",
              " "
            ]
          },
          "metadata": {}
        }
      ]
    }
  ]
}