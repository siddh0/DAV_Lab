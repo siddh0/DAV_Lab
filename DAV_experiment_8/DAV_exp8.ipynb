{
  "nbformat": 4,
  "nbformat_minor": 0,
  "metadata": {
    "colab": {
      "provenance": [],
      "authorship_tag": "ABX9TyMRemVdWrtJzzcHNPa0RzYH"
    },
    "kernelspec": {
      "name": "python3",
      "display_name": "Python 3"
    },
    "language_info": {
      "name": "python"
    }
  },
  "cells": [
    {
      "cell_type": "code",
      "source": [
        "%%html\n",
        "\n",
        "<!DOCTYPE html>\n",
        "<html lang=\"en\">\n",
        "<head>\n",
        "    <meta charset=\"UTF-8\">\n",
        "    <meta name=\"viewport\" content=\"width=device-width, initial-scale=1.0\">\n",
        "    <title>D3.js Example</title>\n",
        "    <script src=\"https://d3js.org/d3.v7.min.js\"></script>\n",
        "</head>\n",
        "<body>\n",
        "    <div id=\"myDiv\"></div>\n",
        "\n",
        "    <script>\n",
        "        // Selecting elements in D3\n",
        "        var selectedElement = d3.select(\"#myDiv\");\n",
        "\n",
        "        // Modifying elements in D3\n",
        "        selectedElement.text(\"Hello World\");\n",
        "\n",
        "    </script>\n",
        "</body>\n",
        "</html>\n"
      ],
      "metadata": {
        "colab": {
          "base_uri": "https://localhost:8080/",
          "height": 34
        },
        "id": "DhmvmwwqOTgP",
        "outputId": "654fa0f9-3175-44ee-e765-86a48a730ff7"
      },
      "execution_count": 8,
      "outputs": [
        {
          "output_type": "display_data",
          "data": {
            "text/plain": [
              "<IPython.core.display.HTML object>"
            ],
            "text/html": [
              "\n",
              "<!DOCTYPE html>\n",
              "<html lang=\"en\">\n",
              "<head>\n",
              "    <meta charset=\"UTF-8\">\n",
              "    <meta name=\"viewport\" content=\"width=device-width, initial-scale=1.0\">\n",
              "    <title>D3.js Example</title>\n",
              "    <script src=\"https://d3js.org/d3.v7.min.js\"></script>\n",
              "</head>\n",
              "<body>\n",
              "    <div id=\"myDiv\"></div>\n",
              "\n",
              "    <script>\n",
              "        // Selecting elements in D3\n",
              "        var selectedElement = d3.select(\"#myDiv\");\n",
              "\n",
              "        // Modifying elements in D3\n",
              "        selectedElement.text(\"Hello, D3!\");\n",
              " \n",
              "    </script>\n",
              "</body>\n",
              "</html>\n"
            ]
          },
          "metadata": {}
        }
      ]
    },
    {
      "cell_type": "code",
      "execution_count": 7,
      "metadata": {
        "colab": {
          "base_uri": "https://localhost:8080/",
          "height": 269
        },
        "id": "8nyLsrsWNIvZ",
        "outputId": "93665adc-46d6-488b-e904-219c780748dc"
      },
      "outputs": [
        {
          "output_type": "display_data",
          "data": {
            "text/plain": [
              "<IPython.core.display.HTML object>"
            ],
            "text/html": [
              "<!DOCTYPE html>\n",
              "<html lang=\"en\">\n",
              "<head>\n",
              "    <meta charset=\"UTF-8\">\n",
              "    <meta name=\"viewport\" content=\"width=device-width, initial-scale=1.0\">\n",
              "    <title>Data-Based D3.js Example</title>\n",
              "    <script src=\"https://d3js.org/d3.v7.min.js\"></script>\n",
              "</head>\n",
              "<body>\n",
              "\n",
              "    <h2>D3.js Example</h2>\n",
              "    <div id=\"custom-chart\"></div>\n",
              "\n",
              "    <script>\n",
              "        // Load sample data\n",
              "        const data = [\n",
              "            { name: \"Alice\", age: 30 },\n",
              "            { name: \"Bob\", age: 35 },\n",
              "            { name: \"Charlie\", age: 40 },\n",
              "            { name: \"David\", age: 45 },\n",
              "            { name: \"Eve\", age: 50 }\n",
              "        ];\n",
              "\n",
              "        // Select the chart container\n",
              "        const chartContainer = d3.select(\"#custom-chart\");\n",
              "\n",
              "        // Append a SVG element to the chart container\n",
              "        const svg = chartContainer.append(\"svg\")\n",
              "            .attr(\"width\", 400)\n",
              "            .attr(\"height\", 200);\n",
              "\n",
              "        // Create rectangles for each data point\n",
              "        svg.selectAll(\"rect\")\n",
              "            .data(data)\n",
              "            .enter().append(\"rect\")\n",
              "            .attr(\"x\", (d, i) => i * 80)\n",
              "            .attr(\"y\", d => 200 - d.age)\n",
              "            .attr(\"width\", 50)\n",
              "            .attr(\"height\", d => d.age)\n",
              "            .attr(\"fill\", \"steelblue\");\n",
              "\n",
              "        // Add text labels for each data point\n",
              "        svg.selectAll(\"text\")\n",
              "            .data(data)\n",
              "            .enter().append(\"text\")\n",
              "            .text(d => d.name)\n",
              "            .attr(\"x\", (d, i) => i * 80 + 10)\n",
              "            .attr(\"y\", 195)\n",
              "            .attr(\"fill\", \"white\");\n",
              "\n",
              "    </script>\n",
              "\n",
              "</body>\n",
              "</html>\n"
            ]
          },
          "metadata": {}
        }
      ],
      "source": [
        "%%html\n",
        "<!DOCTYPE html>\n",
        "<html lang=\"en\">\n",
        "<head>\n",
        "    <meta charset=\"UTF-8\">\n",
        "    <meta name=\"viewport\" content=\"width=device-width, initial-scale=1.0\">\n",
        "    <title>D3.js Example</title>\n",
        "    <script src=\"https://d3js.org/d3.v7.min.js\"></script>\n",
        "</head>\n",
        "<body>\n",
        "\n",
        "    <h2>D3.js Example</h2>\n",
        "    <div id=\"custom-chart\"></div>\n",
        "\n",
        "    <script>\n",
        "        // Load sample data\n",
        "        const data = [\n",
        "            { name: \"Alice\", age: 30 },\n",
        "            { name: \"Bob\", age: 35 },\n",
        "            { name: \"Charlie\", age: 40 },\n",
        "            { name: \"David\", age: 45 },\n",
        "            { name: \"Eve\", age: 50 }\n",
        "        ];\n",
        "\n",
        "        // Select the chart container\n",
        "        const chartContainer = d3.select(\"#custom-chart\");\n",
        "\n",
        "        // Append a SVG element to the chart container\n",
        "        const svg = chartContainer.append(\"svg\")\n",
        "            .attr(\"width\", 400)\n",
        "            .attr(\"height\", 200);\n",
        "\n",
        "        // Create rectangles for each data point\n",
        "        svg.selectAll(\"rect\")\n",
        "            .data(data)\n",
        "            .enter().append(\"rect\")\n",
        "            .attr(\"x\", (d, i) => i * 80)\n",
        "            .attr(\"y\", d => 200 - d.age)\n",
        "            .attr(\"width\", 50)\n",
        "            .attr(\"height\", d => d.age)\n",
        "            .attr(\"fill\", \"steelblue\");\n",
        "\n",
        "        // Add text labels for each data point\n",
        "        svg.selectAll(\"text\")\n",
        "            .data(data)\n",
        "            .enter().append(\"text\")\n",
        "            .text(d => d.name)\n",
        "            .attr(\"x\", (d, i) => i * 80 + 10)\n",
        "            .attr(\"y\", 195)\n",
        "            .attr(\"fill\", \"white\");\n",
        "\n",
        "    </script>\n",
        "\n",
        "</body>\n",
        "</html>\n"
      ]
    }
  ]
}