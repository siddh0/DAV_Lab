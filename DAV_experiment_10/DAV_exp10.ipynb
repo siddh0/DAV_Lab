{
  "nbformat": 4,
  "nbformat_minor": 0,
  "metadata": {
    "colab": {
      "provenance": [],
      "authorship_tag": "ABX9TyOzQxkF+Yk1oVjMGzsbDlsv",
      "include_colab_link": true
    },
    "kernelspec": {
      "name": "python3",
      "display_name": "Python 3"
    },
    "language_info": {
      "name": "python"
    }
  },
  "cells": [
    {
      "cell_type": "markdown",
      "metadata": {
        "id": "view-in-github",
        "colab_type": "text"
      },
      "source": [
        "<a href=\"https://colab.research.google.com/github/siddh0/DAV_Lab/blob/main/DAV_experiment_10/DAV_exp10.ipynb\" target=\"_parent\"><img src=\"https://colab.research.google.com/assets/colab-badge.svg\" alt=\"Open In Colab\"/></a>"
      ]
    },
    {
      "cell_type": "code",
      "execution_count": 9,
      "metadata": {
        "colab": {
          "base_uri": "https://localhost:8080/",
          "height": 269
        },
        "id": "nzmF6ia_2Yim",
        "outputId": "45d7c02c-302f-40cb-8c05-33c24fe0cdb2"
      },
      "outputs": [
        {
          "output_type": "display_data",
          "data": {
            "text/plain": [
              "<IPython.core.display.HTML object>"
            ],
            "text/html": [
              "<!DOCTYPE html>\n",
              "<html lang=\"en\">\n",
              "<head>\n",
              "  <meta charset=\"UTF-8\">\n",
              "  <meta name=\"viewport\" content=\"width=device-width, initial-scale=1.0\">\n",
              "  <title>D3.js Event Handling</title>\n",
              "  <script src=\"https://d3js.org/d3.v5.min.js\"></script>\n",
              "</head>\n",
              "<body>\n",
              "  <h2>Click the circle</h2>\n",
              "  <svg width=\"200\" height=\"200\">\n",
              "    <!-- Changed the circle's fill color to red -->\n",
              "    <circle cx=\"100\" cy=\"100\" r=\"50\" fill=\"red\"></circle>\n",
              "  </svg>\n",
              "\n",
              "  <script>\n",
              "    const circle = d3.select(\"circle\");\n",
              "\n",
              "    // Modified event listener for click event\n",
              "    circle.on(\"click\", function() {\n",
              "      // Change the circle's fill color to green instead of orange\n",
              "      d3.select(this)\n",
              "        .transition()\n",
              "        .duration(1000)\n",
              "        .attr(\"fill\", \"green\");\n",
              "    });\n",
              "  </script>\n",
              "</body>\n",
              "</html>\n"
            ]
          },
          "metadata": {}
        }
      ],
      "source": [
        "%%html\n",
        "<!DOCTYPE html>\n",
        "<html lang=\"en\">\n",
        "<head>\n",
        "  <meta charset=\"UTF-8\">\n",
        "  <meta name=\"viewport\" content=\"width=device-width, initial-scale=1.0\">\n",
        "  <title>D3.js Event Handling</title>\n",
        "  <script src=\"https://d3js.org/d3.v5.min.js\"></script>\n",
        "</head>\n",
        "<body>\n",
        "  <h2>Click the circle</h2>\n",
        "  <svg width=\"200\" height=\"200\">\n",
        "    <!-- Changed the circle's fill color to red -->\n",
        "    <circle cx=\"100\" cy=\"100\" r=\"50\" fill=\"red\"></circle>\n",
        "  </svg>\n",
        "\n",
        "  <script>\n",
        "    const circle = d3.select(\"circle\");\n",
        "\n",
        "    // Modified event listener for click event\n",
        "    circle.on(\"click\", function() {\n",
        "      // Change the circle's fill color to green instead of orange\n",
        "      d3.select(this)\n",
        "        .transition()\n",
        "        .duration(1000)\n",
        "        .attr(\"fill\", \"green\");\n",
        "    });\n",
        "  </script>\n",
        "</body>\n",
        "</html>\n"
      ]
    },
    {
      "cell_type": "code",
      "source": [
        "%%html\n",
        "<!DOCTYPE html>\n",
        "<html lang=\"en\">\n",
        "<head>\n",
        "  <meta charset=\"UTF-8\">\n",
        "  <meta name=\"viewport\" content=\"width=device-width, initial-scale=1.0\">\n",
        "  <title>D3.js Event Handling</title>\n",
        "  <script src=\"https://d3js.org/d3.v5.min.js\"></script>\n",
        "</head>\n",
        "<body>\n",
        "  <h2>Hover over the rectangle</h2>\n",
        "  <svg width=\"200\" height=\"200\">\n",
        "    <!-- Rectangle -->\n",
        "    <rect x=\"50\" y=\"50\" width=\"100\" height=\"100\" fill=\"lightblue\"></rect>\n",
        "  </svg>\n",
        "\n",
        "  <script>\n",
        "    const rectangle = d3.select(\"rect\");\n",
        "\n",
        "    // Add event listener for mouseover event\n",
        "    rectangle.on(\"mouseover\", function() {\n",
        "      // Change the rectangle's fill color to yellow on mouseover\n",
        "      d3.select(this)\n",
        "        .transition()\n",
        "        .duration(500)\n",
        "        .attr(\"fill\", \"yellow\");\n",
        "    });\n",
        "\n",
        "    // Add event listener for mouseout event\n",
        "    rectangle.on(\"mouseout\", function() {\n",
        "      // Change the rectangle's fill color back to lightblue on mouseout\n",
        "      d3.select(this)\n",
        "        .transition()\n",
        "        .duration(500)\n",
        "        .attr(\"fill\", \"lightblue\");\n",
        "    });\n",
        "  </script>\n",
        "</body>\n",
        "</html>\n"
      ],
      "metadata": {
        "colab": {
          "base_uri": "https://localhost:8080/",
          "height": 269
        },
        "id": "VmhvP0UK4AhI",
        "outputId": "50203135-14ea-4124-f173-eedcd834b613"
      },
      "execution_count": 10,
      "outputs": [
        {
          "output_type": "display_data",
          "data": {
            "text/plain": [
              "<IPython.core.display.HTML object>"
            ],
            "text/html": [
              "<!DOCTYPE html>\n",
              "<html lang=\"en\">\n",
              "<head>\n",
              "  <meta charset=\"UTF-8\">\n",
              "  <meta name=\"viewport\" content=\"width=device-width, initial-scale=1.0\">\n",
              "  <title>D3.js Event Handling</title>\n",
              "  <script src=\"https://d3js.org/d3.v5.min.js\"></script>\n",
              "</head>\n",
              "<body>\n",
              "  <h2>Hover over the rectangle</h2>\n",
              "  <svg width=\"200\" height=\"200\">\n",
              "    <!-- Rectangle -->\n",
              "    <rect x=\"50\" y=\"50\" width=\"100\" height=\"100\" fill=\"lightblue\"></rect>\n",
              "  </svg>\n",
              "\n",
              "  <script>\n",
              "    const rectangle = d3.select(\"rect\");\n",
              "\n",
              "    // Add event listener for mouseover event\n",
              "    rectangle.on(\"mouseover\", function() {\n",
              "      // Change the rectangle's fill color to yellow on mouseover\n",
              "      d3.select(this)\n",
              "        .transition()\n",
              "        .duration(500)\n",
              "        .attr(\"fill\", \"yellow\");\n",
              "    });\n",
              "\n",
              "    // Add event listener for mouseout event\n",
              "    rectangle.on(\"mouseout\", function() {\n",
              "      // Change the rectangle's fill color back to lightblue on mouseout\n",
              "      d3.select(this)\n",
              "        .transition()\n",
              "        .duration(500)\n",
              "        .attr(\"fill\", \"lightblue\");\n",
              "    });\n",
              "  </script>\n",
              "</body>\n",
              "</html>\n"
            ]
          },
          "metadata": {}
        }
      ]
    }
  ]
}