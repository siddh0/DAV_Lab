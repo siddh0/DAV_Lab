{
  "nbformat": 4,
  "nbformat_minor": 0,
  "metadata": {
    "colab": {
      "provenance": [],
      "authorship_tag": "ABX9TyPfXNsWcP4MhfDmEfDM2n8T",
      "include_colab_link": true
    },
    "kernelspec": {
      "name": "ir",
      "display_name": "R"
    },
    "language_info": {
      "name": "R"
    }
  },
  "cells": [
    {
      "cell_type": "markdown",
      "metadata": {
        "id": "view-in-github",
        "colab_type": "text"
      },
      "source": [
        "<a href=\"https://colab.research.google.com/github/siddh0/DAV_Lab/blob/main/DAV_Experiment_7/DAV_exp_7.ipynb\" target=\"_parent\"><img src=\"https://colab.research.google.com/assets/colab-badge.svg\" alt=\"Open In Colab\"/></a>"
      ]
    },
    {
      "cell_type": "markdown",
      "source": [
        "#Experiment - 7"
      ],
      "metadata": {
        "id": "rk28cwMdDTmE"
      }
    },
    {
      "cell_type": "markdown",
      "source": [
        "Aim: Perform the steps involved in Text Analytics in Python & R"
      ],
      "metadata": {
        "id": "wP50TSnGDZxk"
      }
    },
    {
      "cell_type": "markdown",
      "source": [
        "Task to be performed :\n",
        "* Explore Top-5 Text Analytics Libraries in Python (w.r.t Features & Applications)\n",
        "* Explore Top-5 Text Analytics Libraries in R (w.r.t Features & Applications)\n",
        "* Perform the following experiments using Python & R\n",
        "* Tokenization (Sentence & Word)\n",
        "* Frequency Distribution\n",
        "* Remove stopwords & punctuations\n",
        "* Lexicon Normalization (Stemming, Lemmatization)\n",
        "* Part of Speech tagging\n",
        "* Named Entity Recognization\n",
        "* Scrape data from a website"
      ],
      "metadata": {
        "id": "kp3U9JmJDejA"
      }
    },
    {
      "cell_type": "markdown",
      "source": [
        "##Scrape data from a website"
      ],
      "metadata": {
        "id": "OQj7IblKhsYV"
      }
    },
    {
      "cell_type": "code",
      "source": [
        "import requests\n",
        "from bs4 import BeautifulSoup\n",
        "\n",
        "# Specify the URL of the webpage to scrape\n",
        "url = 'https://toscrape.com/'\n",
        "x=''\n",
        "# Send an HTTP GET request to the URL\n",
        "response = requests.get(url)\n",
        "\n",
        "# Check if the request was successful (status code 200)\n",
        "if response.status_code == 200:\n",
        "    # Parse the HTML content of the webpage\n",
        "    soup = BeautifulSoup(response.content, 'html.parser')\n",
        "\n",
        "    # Find and extract specific elements or data from the webpage\n",
        "    # Example: Extract all <p> tags\n",
        "    paragraphs = soup.find_all('p')\n",
        "\n",
        "    # Print the extracted data\n",
        "    for paragraph in paragraphs:\n",
        "        print(paragraph.text)\n",
        "        x += paragraph.text\n",
        "else:\n",
        "    print('Failed to retrieve the webpage. Status code:', response.status_code)\n"
      ],
      "metadata": {
        "colab": {
          "base_uri": "https://localhost:8080/"
        },
        "id": "utx9rq82oPC7",
        "outputId": "bdbb25c9-99dc-4f6f-bbfa-ad737c58bea6"
      },
      "execution_count": 13,
      "outputs": [
        {
          "output_type": "stream",
          "name": "stdout",
          "text": [
            "A fictional bookstore that desperately wants to be scraped. It's a safe place for beginners learning web scraping and for developers validating their scraping technologies as well. Available at: books.toscrape.com\n",
            "A website that lists quotes from famous people. It has many endpoints showing the quotes in many different ways, each of them including new scraping challenges for you, as described below.\n"
          ]
        }
      ]
    },
    {
      "cell_type": "markdown",
      "source": [
        "##TOKENIZER"
      ],
      "metadata": {
        "id": "c_QDTPNvosDb"
      }
    },
    {
      "cell_type": "code",
      "execution_count": 14,
      "metadata": {
        "colab": {
          "base_uri": "https://localhost:8080/"
        },
        "id": "A6-SHgmdoEJV",
        "outputId": "866d2ad2-e0bf-4659-de5c-88fa9a92bc16"
      },
      "outputs": [
        {
          "output_type": "stream",
          "name": "stdout",
          "text": [
            "Sentences: ['A fictional bookstore that desperately wants to be scraped.', \"It's a safe place for beginners learning web scraping and for developers validating their scraping technologies as well.\", 'Available at: books.toscrape.comA website that lists quotes from famous people.', 'It has many endpoints showing the quotes in many different ways, each of them including new scraping challenges for you, as described below.']\n",
            "Words: ['A', 'fictional', 'bookstore', 'that', 'desperately', 'wants', 'to', 'be', 'scraped', '.', 'It', \"'s\", 'a', 'safe', 'place', 'for', 'beginners', 'learning', 'web', 'scraping', 'and', 'for', 'developers', 'validating', 'their', 'scraping', 'technologies', 'as', 'well', '.', 'Available', 'at', ':', 'books.toscrape.comA', 'website', 'that', 'lists', 'quotes', 'from', 'famous', 'people', '.', 'It', 'has', 'many', 'endpoints', 'showing', 'the', 'quotes', 'in', 'many', 'different', 'ways', ',', 'each', 'of', 'them', 'including', 'new', 'scraping', 'challenges', 'for', 'you', ',', 'as', 'described', 'below', '.']\n"
          ]
        },
        {
          "output_type": "stream",
          "name": "stderr",
          "text": [
            "[nltk_data] Downloading package punkt to /root/nltk_data...\n",
            "[nltk_data]   Package punkt is already up-to-date!\n"
          ]
        }
      ],
      "source": [
        "# Python\n",
        "import nltk\n",
        "from nltk.tokenize import sent_tokenize, word_tokenize\n",
        "nltk.download('punkt')\n",
        "text = x\n",
        "sentences = sent_tokenize(text)\n",
        "words = word_tokenize(text)\n",
        "print(\"Sentences:\", sentences)\n",
        "print(\"Words:\", words)\n"
      ]
    },
    {
      "cell_type": "markdown",
      "source": [
        "##Frequency Distribution"
      ],
      "metadata": {
        "id": "SEV7AoVEou5r"
      }
    },
    {
      "cell_type": "code",
      "source": [
        "# Python\n",
        "from nltk.probability import FreqDist\n",
        "\n",
        "# Assuming 'words' is a list of words\n",
        "fdist = FreqDist(words)\n",
        "\n",
        "# Print frequency counts for each word\n",
        "for word, frequency in fdist.items():\n",
        "    print(f\"{word}: {frequency}\")\n"
      ],
      "metadata": {
        "colab": {
          "base_uri": "https://localhost:8080/"
        },
        "id": "55bqeQ0yo1k2",
        "outputId": "2806d0ca-89c1-4be3-e9a3-23af8f766d80"
      },
      "execution_count": 15,
      "outputs": [
        {
          "output_type": "stream",
          "name": "stdout",
          "text": [
            "A: 1\n",
            "fictional: 1\n",
            "bookstore: 1\n",
            "that: 2\n",
            "desperately: 1\n",
            "wants: 1\n",
            "to: 1\n",
            "be: 1\n",
            "scraped: 1\n",
            ".: 4\n",
            "It: 2\n",
            "'s: 1\n",
            "a: 1\n",
            "safe: 1\n",
            "place: 1\n",
            "for: 3\n",
            "beginners: 1\n",
            "learning: 1\n",
            "web: 1\n",
            "scraping: 3\n",
            "and: 1\n",
            "developers: 1\n",
            "validating: 1\n",
            "their: 1\n",
            "technologies: 1\n",
            "as: 2\n",
            "well: 1\n",
            "Available: 1\n",
            "at: 1\n",
            ":: 1\n",
            "books.toscrape.comA: 1\n",
            "website: 1\n",
            "lists: 1\n",
            "quotes: 2\n",
            "from: 1\n",
            "famous: 1\n",
            "people: 1\n",
            "has: 1\n",
            "many: 2\n",
            "endpoints: 1\n",
            "showing: 1\n",
            "the: 1\n",
            "in: 1\n",
            "different: 1\n",
            "ways: 1\n",
            ",: 2\n",
            "each: 1\n",
            "of: 1\n",
            "them: 1\n",
            "including: 1\n",
            "new: 1\n",
            "challenges: 1\n",
            "you: 1\n",
            "described: 1\n",
            "below: 1\n"
          ]
        }
      ]
    },
    {
      "cell_type": "markdown",
      "source": [
        "##Remove stopwords & punctuations"
      ],
      "metadata": {
        "id": "jcLFpEDlspIy"
      }
    },
    {
      "cell_type": "code",
      "source": [
        "# Python\n",
        "from nltk.corpus import stopwords\n",
        "import string\n",
        "nltk.download('stopwords')\n",
        "stop_words = set(stopwords.words('english'))\n",
        "filtered_words = [word for word in words if word.lower() not in stop_words and word not in string.punctuation]\n",
        "print(\"Filtered Words:\", filtered_words)\n"
      ],
      "metadata": {
        "colab": {
          "base_uri": "https://localhost:8080/"
        },
        "id": "Gy9Z3QfVpV90",
        "outputId": "8100bd8a-6847-468b-9e80-bf19fb28b310"
      },
      "execution_count": 16,
      "outputs": [
        {
          "output_type": "stream",
          "name": "stdout",
          "text": [
            "Filtered Words: ['fictional', 'bookstore', 'desperately', 'wants', 'scraped', \"'s\", 'safe', 'place', 'beginners', 'learning', 'web', 'scraping', 'developers', 'validating', 'scraping', 'technologies', 'well', 'Available', 'books.toscrape.comA', 'website', 'lists', 'quotes', 'famous', 'people', 'many', 'endpoints', 'showing', 'quotes', 'many', 'different', 'ways', 'including', 'new', 'scraping', 'challenges', 'described']\n"
          ]
        },
        {
          "output_type": "stream",
          "name": "stderr",
          "text": [
            "[nltk_data] Downloading package stopwords to /root/nltk_data...\n",
            "[nltk_data]   Package stopwords is already up-to-date!\n"
          ]
        }
      ]
    },
    {
      "cell_type": "markdown",
      "source": [
        "##Lexicon Normalization (Stemming, Lemmatization)"
      ],
      "metadata": {
        "id": "3ymIj8UVssvd"
      }
    },
    {
      "cell_type": "code",
      "source": [
        "import nltk\n",
        "from nltk.stem import PorterStemmer, WordNetLemmatizer\n",
        "from nltk.tokenize import word_tokenize\n",
        "import string\n",
        "\n",
        "# Download WordNet corpus\n",
        "nltk.download('wordnet')\n",
        "\n",
        "\n",
        "\n",
        "# Tokenize the text and remove punctuation\n",
        "words = [word for word in word_tokenize(text) if word not in string.punctuation]\n",
        "\n",
        "# Initialize stemmer and lemmatizer\n",
        "porter = PorterStemmer()\n",
        "lemmatizer = WordNetLemmatizer()\n",
        "\n",
        "# Perform stemming and lemmatization\n",
        "stemmed_words = [porter.stem(word) for word in words]\n",
        "lemmatized_words = [lemmatizer.lemmatize(word.lower()) for word in words]\n",
        "\n",
        "# Print the results\n",
        "print(\"Stemmed Words:\", stemmed_words)\n",
        "print(\"Lemmatized Words:\", lemmatized_words)\n"
      ],
      "metadata": {
        "colab": {
          "base_uri": "https://localhost:8080/"
        },
        "id": "uM4D2oorpobl",
        "outputId": "367d8b7c-9316-4f3d-cfc3-d54ccc33f8ef"
      },
      "execution_count": 17,
      "outputs": [
        {
          "output_type": "stream",
          "name": "stdout",
          "text": [
            "Stemmed Words: ['a', 'fiction', 'bookstor', 'that', 'desper', 'want', 'to', 'be', 'scrape', 'it', \"'s\", 'a', 'safe', 'place', 'for', 'beginn', 'learn', 'web', 'scrape', 'and', 'for', 'develop', 'valid', 'their', 'scrape', 'technolog', 'as', 'well', 'avail', 'at', 'books.toscrape.coma', 'websit', 'that', 'list', 'quot', 'from', 'famou', 'peopl', 'it', 'ha', 'mani', 'endpoint', 'show', 'the', 'quot', 'in', 'mani', 'differ', 'way', 'each', 'of', 'them', 'includ', 'new', 'scrape', 'challeng', 'for', 'you', 'as', 'describ', 'below']\n",
            "Lemmatized Words: ['a', 'fictional', 'bookstore', 'that', 'desperately', 'want', 'to', 'be', 'scraped', 'it', \"'s\", 'a', 'safe', 'place', 'for', 'beginner', 'learning', 'web', 'scraping', 'and', 'for', 'developer', 'validating', 'their', 'scraping', 'technology', 'a', 'well', 'available', 'at', 'books.toscrape.coma', 'website', 'that', 'list', 'quote', 'from', 'famous', 'people', 'it', 'ha', 'many', 'endpoint', 'showing', 'the', 'quote', 'in', 'many', 'different', 'way', 'each', 'of', 'them', 'including', 'new', 'scraping', 'challenge', 'for', 'you', 'a', 'described', 'below']\n"
          ]
        },
        {
          "output_type": "stream",
          "name": "stderr",
          "text": [
            "[nltk_data] Downloading package wordnet to /root/nltk_data...\n",
            "[nltk_data]   Package wordnet is already up-to-date!\n"
          ]
        }
      ]
    },
    {
      "cell_type": "markdown",
      "source": [
        "##Part of Speech tagging"
      ],
      "metadata": {
        "id": "oDiwpJbkswUJ"
      }
    },
    {
      "cell_type": "code",
      "source": [
        "nltk.download('averaged_perceptron_tagger')\n",
        "pos_tags = nltk.pos_tag(filtered_words)\n",
        "print(\"Part of Speech Tags:\", pos_tags)\n"
      ],
      "metadata": {
        "colab": {
          "base_uri": "https://localhost:8080/"
        },
        "id": "xVwBO-Xbqge3",
        "outputId": "d1cfdbf1-578a-4884-f5e8-fcdf610a8eca"
      },
      "execution_count": 19,
      "outputs": [
        {
          "output_type": "stream",
          "name": "stdout",
          "text": [
            "Part of Speech Tags: [('fictional', 'JJ'), ('bookstore', 'NN'), ('desperately', 'RB'), ('wants', 'VBZ'), ('scraped', 'VBD'), (\"'s\", 'POS'), ('safe', 'JJ'), ('place', 'NN'), ('beginners', 'NNS'), ('learning', 'VBG'), ('web', 'JJ'), ('scraping', 'VBG'), ('developers', 'NNS'), ('validating', 'VBG'), ('scraping', 'NN'), ('technologies', 'NNS'), ('well', 'RB'), ('Available', 'NNP'), ('books.toscrape.comA', 'NN'), ('website', 'NN'), ('lists', 'NNS'), ('quotes', 'VBZ'), ('famous', 'JJ'), ('people', 'NNS'), ('many', 'JJ'), ('endpoints', 'NNS'), ('showing', 'VBG'), ('quotes', 'NNS'), ('many', 'JJ'), ('different', 'JJ'), ('ways', 'NNS'), ('including', 'VBG'), ('new', 'JJ'), ('scraping', 'NN'), ('challenges', 'NNS'), ('described', 'VBD')]\n"
          ]
        },
        {
          "output_type": "stream",
          "name": "stderr",
          "text": [
            "[nltk_data] Downloading package averaged_perceptron_tagger to\n",
            "[nltk_data]     /root/nltk_data...\n",
            "[nltk_data]   Package averaged_perceptron_tagger is already up-to-\n",
            "[nltk_data]       date!\n"
          ]
        }
      ]
    },
    {
      "cell_type": "markdown",
      "source": [
        "##Named Entity Recognization"
      ],
      "metadata": {
        "id": "vWHE7Nnfszzo"
      }
    },
    {
      "cell_type": "code",
      "source": [
        "# Python\n",
        "import spacy\n",
        "\n",
        "nlp = spacy.load(\"en_core_web_sm\")\n",
        "text2=\"New York City, often simply referred to as New York, is the most populous city in the United States. It is located in the northeastern region of the country and is known for its iconic landmarks such as the Statue of Liberty, Times Square, and Central Park. The city is a major hub for finance, culture, and entertainment, attracting millions of tourists every year. Some of the world's leading companies and institutions are headquartered in New York City, making it a global center for commerce and innovation.\"\n",
        "doc = nlp(text2)\n",
        "entities = [(entity.text, entity.label_) for entity in doc.ents]\n",
        "print(\"Named Entities:\", entities)"
      ],
      "metadata": {
        "colab": {
          "base_uri": "https://localhost:8080/"
        },
        "id": "gTqycz3Yr_cA",
        "outputId": "ddc79ad5-7965-40cf-c5d7-7a75b8a9403f"
      },
      "execution_count": 22,
      "outputs": [
        {
          "output_type": "stream",
          "name": "stdout",
          "text": [
            "Named Entities: [('New York City', 'GPE'), ('New York', 'GPE'), ('the United States', 'GPE'), ('the Statue of Liberty', 'FAC'), ('Times Square', 'FAC'), ('Central Park', 'LOC'), ('millions', 'CARDINAL'), ('New York City', 'GPE')]\n"
          ]
        }
      ]
    },
    {
      "cell_type": "markdown",
      "source": [
        "## IN R"
      ],
      "metadata": {
        "id": "_8qM6UGBsFFj"
      }
    },
    {
      "cell_type": "markdown",
      "source": [
        "##TOKENIZER"
      ],
      "metadata": {
        "id": "R1JIY7JCsbjw"
      }
    },
    {
      "cell_type": "code",
      "source": [
        "library(tokenizers)\n",
        "\n",
        "text <- readline(prompt = \"Enter text: \")\n",
        "\n",
        "word_tokens <- unlist(tokenize_words(text))\n",
        "sentence_tokens <- unlist(tokenize_sentences(text))\n",
        "\n",
        "cat(\"\\nTokenized words:\\n\")\n",
        "print(word_tokens)\n",
        "\n",
        "cat(\"\\nTokenized sentences:\\n\")\n",
        "print(sentence_tokens)"
      ],
      "metadata": {
        "colab": {
          "base_uri": "https://localhost:8080/"
        },
        "id": "lH32sk2IsZJK",
        "outputId": "0bcb9269-034b-4268-ec6f-d51c1e4d01bc"
      },
      "execution_count": 44,
      "outputs": [
        {
          "output_type": "stream",
          "name": "stdout",
          "text": [
            "Enter text: A fictional bookstore that desperately wants to be scraped. It's a safe place for beginners learning web scraping and for developers validating their scraping technologies as well.\n",
            "\n",
            "Tokenized words:\n",
            " [1] \"a\"            \"fictional\"    \"bookstore\"    \"that\"         \"desperately\" \n",
            " [6] \"wants\"        \"to\"           \"be\"           \"scraped\"      \"it's\"        \n",
            "[11] \"a\"            \"safe\"         \"place\"        \"for\"          \"beginners\"   \n",
            "[16] \"learning\"     \"web\"          \"scraping\"     \"and\"          \"for\"         \n",
            "[21] \"developers\"   \"validating\"   \"their\"        \"scraping\"     \"technologies\"\n",
            "[26] \"as\"           \"well\"        \n",
            "\n",
            "Tokenized sentences:\n",
            "[1] \"A fictional bookstore that desperately wants to be scraped.\"                                                             \n",
            "[2] \"It's a safe place for beginners learning web scraping and for developers validating their scraping technologies as well.\"\n"
          ]
        }
      ]
    },
    {
      "cell_type": "markdown",
      "source": [
        "##Frequency Distribution"
      ],
      "metadata": {
        "id": "HmunTv28tht0"
      }
    },
    {
      "cell_type": "code",
      "source": [
        "word_freq <- table(word_tokens)\n",
        "\n",
        "print(\"Most common words:\")\n",
        "print(head(sort(word_freq, decreasing = TRUE), 2))\n",
        "\n",
        "print(\"Frequency of each word:\")\n",
        "print(word_freq)"
      ],
      "metadata": {
        "colab": {
          "base_uri": "https://localhost:8080/"
        },
        "id": "pKJqLB9qtAF0",
        "outputId": "0dfef6af-8b1c-4b4b-89c2-1cb1f7f1e5de"
      },
      "execution_count": 45,
      "outputs": [
        {
          "output_type": "stream",
          "name": "stdout",
          "text": [
            "[1] \"Most common words:\"\n",
            "word_tokens\n",
            "  a for \n",
            "  2   2 \n",
            "[1] \"Frequency of each word:\"\n",
            "word_tokens\n",
            "           a          and           as           be    beginners    bookstore \n",
            "           2            1            1            1            1            1 \n",
            " desperately   developers    fictional          for         it's     learning \n",
            "           1            1            1            2            1            1 \n",
            "       place         safe      scraped     scraping technologies         that \n",
            "           1            1            1            2            1            1 \n",
            "       their           to   validating        wants          web         well \n",
            "           1            1            1            1            1            1 \n"
          ]
        }
      ]
    },
    {
      "cell_type": "markdown",
      "source": [
        "##Remove stopwords & punctuations"
      ],
      "metadata": {
        "id": "tKwxJ7Bz4r4B"
      }
    },
    {
      "cell_type": "code",
      "source": [
        "library(tm)\n",
        "\n",
        "filtered_tokens <- word_tokens[!word_tokens %in% stopwords(\"en\")]\n",
        "\n",
        "print(\"Filtered Tokens:\")\n",
        "print(filtered_tokens)"
      ],
      "metadata": {
        "colab": {
          "base_uri": "https://localhost:8080/"
        },
        "id": "htQ6hbQ5tzsr",
        "outputId": "74cd92d0-028e-4ed8-e279-797c419b2d0d"
      },
      "execution_count": 46,
      "outputs": [
        {
          "output_type": "stream",
          "name": "stdout",
          "text": [
            "[1] \"Filtered Tokens:\"\n",
            " [1] \"fictional\"    \"bookstore\"    \"desperately\"  \"wants\"        \"scraped\"     \n",
            " [6] \"safe\"         \"place\"        \"beginners\"    \"learning\"     \"web\"         \n",
            "[11] \"scraping\"     \"developers\"   \"validating\"   \"scraping\"     \"technologies\"\n",
            "[16] \"well\"        \n"
          ]
        }
      ]
    },
    {
      "cell_type": "markdown",
      "source": [
        "##Lexicon Normalization (Stemming, Lemmatization)"
      ],
      "metadata": {
        "id": "XMdsSa0S4yX3"
      }
    },
    {
      "cell_type": "code",
      "source": [
        "stemming <- function(text) {\n",
        "  corpus <- Corpus(VectorSource(text))\n",
        "  corpus <- tm_map(corpus, stemDocument)\n",
        "  return(corpus)\n",
        "}\n",
        "\n",
        "stemmed_corpus <- stemming(filtered_tokens)\n",
        "\n",
        "print(\"Stemmed Tokens:\")\n",
        "print(unlist(sapply(stemmed_corpus, as.character)))"
      ],
      "metadata": {
        "colab": {
          "base_uri": "https://localhost:8080/"
        },
        "id": "2nBGrl48t62F",
        "outputId": "8cd61ad0-39f5-4cd2-82a5-4c7f8d59a2c9"
      },
      "execution_count": 47,
      "outputs": [
        {
          "output_type": "stream",
          "name": "stderr",
          "text": [
            "Warning message in tm_map.SimpleCorpus(corpus, stemDocument):\n",
            "“transformation drops documents”\n"
          ]
        },
        {
          "output_type": "stream",
          "name": "stdout",
          "text": [
            "[1] \"Stemmed Tokens:\"\n",
            " [1] \"fiction\"   \"bookstor\"  \"desper\"    \"want\"      \"scrape\"    \"safe\"     \n",
            " [7] \"place\"     \"beginn\"    \"learn\"     \"web\"       \"scrape\"    \"develop\"  \n",
            "[13] \"valid\"     \"scrape\"    \"technolog\" \"well\"     \n"
          ]
        }
      ]
    },
    {
      "cell_type": "code",
      "source": [
        "library(textstem)"
      ],
      "metadata": {
        "id": "B5Q079k33j3X"
      },
      "execution_count": 53,
      "outputs": []
    },
    {
      "cell_type": "code",
      "source": [
        "lemmatization <- function(text) {\n",
        "  corpus <- Corpus(VectorSource(text))\n",
        "  corpus <- tm_map(corpus, lemmatize_strings)\n",
        "  return(corpus)\n",
        "}\n",
        "\n",
        "lemmatized_corpus <- lemmatization(text)\n",
        "\n",
        "print(\"Lemmatized Tokens:\")\n",
        "print(unlist(sapply(lemmatized_corpus, as.character)))"
      ],
      "metadata": {
        "colab": {
          "base_uri": "https://localhost:8080/"
        },
        "id": "bVlo0yO63SUC",
        "outputId": "e1799e74-5ec8-4c35-cf5f-8ce04c1f7ad0"
      },
      "execution_count": 54,
      "outputs": [
        {
          "output_type": "stream",
          "name": "stderr",
          "text": [
            "Warning message in tm_map.SimpleCorpus(corpus, lemmatize_strings):\n",
            "“transformation drops documents”\n"
          ]
        },
        {
          "output_type": "stream",
          "name": "stdout",
          "text": [
            "[1] \"Lemmatized Tokens:\"\n",
            "[1] \"A fictional bookstore that desperately want to be scrape. It's a safe place for beginner learn web scrape and for developer validate their scrape technology as good.\"\n"
          ]
        }
      ]
    },
    {
      "cell_type": "markdown",
      "source": [
        "##Scrape data from a website"
      ],
      "metadata": {
        "id": "GmLsgbPV43ti"
      }
    },
    {
      "cell_type": "code",
      "source": [
        "# Install and load required libraries\n",
        "install.packages(\"rvest\")\n",
        "library(rvest)\n",
        "\n",
        "# Function to scrape text within <p> tags from a website\n",
        "scrape_website <- function(url) {\n",
        "  webpage <- read_html(url)\n",
        "  paragraphs <- html_nodes(webpage, \"p\")  # Select only <p> tags\n",
        "  text <- html_text(paragraphs)\n",
        "  return(text)\n",
        "}\n",
        "\n",
        "# URL of the website to scrape\n",
        "url <- \"https://toscrape.com/\"\n",
        "\n",
        "# Scrape data from the website\n",
        "paragraphs_text <- scrape_website(url)\n",
        "\n",
        "# Print the scraped text within <p> tags\n",
        "cat(paragraphs_text)\n"
      ],
      "metadata": {
        "colab": {
          "base_uri": "https://localhost:8080/"
        },
        "id": "vBqeakGUsHtr",
        "outputId": "388b2438-33cc-4939-a71c-40c90c580876"
      },
      "execution_count": 51,
      "outputs": [
        {
          "output_type": "stream",
          "name": "stderr",
          "text": [
            "Installing package into ‘/usr/local/lib/R/site-library’\n",
            "(as ‘lib’ is unspecified)\n",
            "\n"
          ]
        },
        {
          "output_type": "stream",
          "name": "stdout",
          "text": [
            "A fictional bookstore that desperately wants to be scraped. It's a safe place for beginners learning web scraping and for developers validating their scraping technologies as well. Available at: books.toscrape.com A website that lists quotes from famous people. It has many endpoints showing the quotes in many different ways, each of them including new scraping challenges for you, as described below."
          ]
        }
      ]
    }
  ]
}