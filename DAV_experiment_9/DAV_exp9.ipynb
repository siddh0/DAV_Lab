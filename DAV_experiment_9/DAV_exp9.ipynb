{
  "nbformat": 4,
  "nbformat_minor": 0,
  "metadata": {
    "colab": {
      "provenance": [],
      "authorship_tag": "ABX9TyP+ykdvcMSGkFHU4/MAEdf8",
      "include_colab_link": true
    },
    "kernelspec": {
      "name": "python3",
      "display_name": "Python 3"
    },
    "language_info": {
      "name": "python"
    }
  },
  "cells": [
    {
      "cell_type": "markdown",
      "metadata": {
        "id": "view-in-github",
        "colab_type": "text"
      },
      "source": [
        "<a href=\"https://colab.research.google.com/github/siddh0/DAV_Lab/blob/main/DAV_experiment_9/DAV_exp9.ipynb\" target=\"_parent\"><img src=\"https://colab.research.google.com/assets/colab-badge.svg\" alt=\"Open In Colab\"/></a>"
      ]
    },
    {
      "cell_type": "code",
      "execution_count": 13,
      "metadata": {
        "colab": {
          "base_uri": "https://localhost:8080/",
          "height": 621
        },
        "id": "FQNJ-hdR7oLC",
        "outputId": "e6ae35e4-c863-4462-8db2-b8ed1ce327c7"
      },
      "outputs": [
        {
          "output_type": "display_data",
          "data": {
            "text/plain": [
              "<IPython.core.display.HTML object>"
            ],
            "text/html": [
              "<!DOCTYPE html>\n",
              "<html>\n",
              "<head>\n",
              "    <title>Page Title</title>\n",
              "    <script src=\"https://d3js.org/d3.v5.min.js\"></script>\n",
              "    <script src=\"https://unpkg.com/topojson@3\"></script>\n",
              "        <style>\n",
              "        .sphere {\n",
              "            fill: #0000ff;\n",
              "        }\n",
              "        .country {\n",
              "            fill: #00ff00;\n",
              "            stroke: #333;\n",
              "            stroke-width: 0.5px;\n",
              "        }\n",
              "    </style>\n",
              "</head>\n",
              "<body>\n",
              "    <svg width=\"960\" height=\"600\"></svg>\n",
              "\n",
              "    <script>\n",
              "        const svg = d3.select('svg');\n",
              "        const countryName = d3.select(\"#countryName\");\n",
              "        const projection = d3.geoNaturalEarth1();\n",
              "        const pathGenerator = d3.geoPath().projection(projection);\n",
              "        svg.append('path')\n",
              "            .attr('class', 'sphere')\n",
              "            .attr('d', pathGenerator({type: 'Sphere'}));\n",
              "        d3.json('https://unpkg.com/world-atlas@1.1.4/world/110m.json')\n",
              "          .then(data => {\n",
              "            const countries = topojson.feature(data, data.objects.countries);\n",
              "            svg.selectAll('path').data(countries.features)\n",
              "              .enter().append('path')\n",
              "                .attr('class', 'country')\n",
              "                .attr('d', pathGenerator)\n",
              "                .on(\"mouseover\", function(d) {\n",
              "                    d3.select(this).style(\"fill\", \"orange\");\n",
              "   \n",
              "                })\n",
              "                .on(\"mouseout\", function(d) {\n",
              "                    d3.select(this).style(\"fill\", \"\");\n",
              "                });\n",
              "          });\n",
              "    </script>\n",
              "</body>\n",
              "</html>\n"
            ]
          },
          "metadata": {}
        }
      ],
      "source": [
        "%%html\n",
        "<!DOCTYPE html>\n",
        "<html>\n",
        "<head>\n",
        "    <title>Page Title</title>\n",
        "    <script src=\"https://d3js.org/d3.v5.min.js\"></script>\n",
        "    <script src=\"https://unpkg.com/topojson@3\"></script>\n",
        "        <style>\n",
        "        .sphere {\n",
        "            fill: #0000ff;\n",
        "        }\n",
        "        .country {\n",
        "            fill: #00ff00;\n",
        "            stroke: #333;\n",
        "            stroke-width: 0.5px;\n",
        "        }\n",
        "    </style>\n",
        "</head>\n",
        "<body>\n",
        "    <svg width=\"960\" height=\"600\"></svg>\n",
        "\n",
        "    <script>\n",
        "        const svg = d3.select('svg');\n",
        "        const countryName = d3.select(\"#countryName\");\n",
        "        const projection = d3.geoNaturalEarth1();\n",
        "        const pathGenerator = d3.geoPath().projection(projection);\n",
        "        svg.append('path')\n",
        "            .attr('class', 'sphere')\n",
        "            .attr('d', pathGenerator({type: 'Sphere'}));\n",
        "        d3.json('https://unpkg.com/world-atlas@1.1.4/world/110m.json')\n",
        "          .then(data => {\n",
        "            const countries = topojson.feature(data, data.objects.countries);\n",
        "            svg.selectAll('path').data(countries.features)\n",
        "              .enter().append('path')\n",
        "                .attr('class', 'country')\n",
        "                .attr('d', pathGenerator)\n",
        "                .on(\"mouseover\", function(d) {\n",
        "                    d3.select(this).style(\"fill\", \"orange\");\n",
        "\n",
        "                })\n",
        "                .on(\"mouseout\", function(d) {\n",
        "                    d3.select(this).style(\"fill\", \"\");\n",
        "                });\n",
        "          });\n",
        "    </script>\n",
        "</body>\n",
        "</html>\n"
      ]
    },
    {
      "cell_type": "code",
      "source": [],
      "metadata": {
        "id": "XVUMC63B7vQm"
      },
      "execution_count": null,
      "outputs": []
    }
  ]
}